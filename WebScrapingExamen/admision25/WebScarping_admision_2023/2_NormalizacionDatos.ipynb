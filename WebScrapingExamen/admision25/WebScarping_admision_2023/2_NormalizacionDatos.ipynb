{
 "cells": [
  {
   "cell_type": "code",
   "execution_count": 139,
   "metadata": {},
   "outputs": [],
   "source": [
    "import pandas as pd\n",
    "import numpy as np\n",
    "import seaborn as sns\n",
    "import matplotlib.pyplot as plt"
   ]
  },
  {
   "cell_type": "code",
   "execution_count": 140,
   "metadata": {},
   "outputs": [],
   "source": [
    "df_carrera=pd.read_csv('./data/tabla_carrera.csv')"
   ]
  },
  {
   "cell_type": "code",
   "execution_count": 141,
   "metadata": {},
   "outputs": [
    {
     "data": {
      "text/html": [
       "<div>\n",
       "<style scoped>\n",
       "    .dataframe tbody tr th:only-of-type {\n",
       "        vertical-align: middle;\n",
       "    }\n",
       "\n",
       "    .dataframe tbody tr th {\n",
       "        vertical-align: top;\n",
       "    }\n",
       "\n",
       "    .dataframe thead th {\n",
       "        text-align: right;\n",
       "    }\n",
       "</style>\n",
       "<table border=\"1\" class=\"dataframe\">\n",
       "  <thead>\n",
       "    <tr style=\"text-align: right;\">\n",
       "      <th></th>\n",
       "      <th>id_modalidad</th>\n",
       "      <th>Modalidad</th>\n",
       "    </tr>\n",
       "  </thead>\n",
       "  <tbody>\n",
       "    <tr>\n",
       "      <th>0</th>\n",
       "      <td>0</td>\n",
       "      <td>educación básica regular (ebr) y educación bás...</td>\n",
       "    </tr>\n",
       "    <tr>\n",
       "      <th>1</th>\n",
       "      <td>1</td>\n",
       "      <td>primeros puestos de educación secundaria</td>\n",
       "    </tr>\n",
       "    <tr>\n",
       "      <th>2</th>\n",
       "      <td>2</td>\n",
       "      <td>traslado interno</td>\n",
       "    </tr>\n",
       "    <tr>\n",
       "      <th>3</th>\n",
       "      <td>3</td>\n",
       "      <td>graduados o titulados</td>\n",
       "    </tr>\n",
       "    <tr>\n",
       "      <th>4</th>\n",
       "      <td>4</td>\n",
       "      <td>traslado externo nacional</td>\n",
       "    </tr>\n",
       "    <tr>\n",
       "      <th>5</th>\n",
       "      <td>5</td>\n",
       "      <td>traslado externo internacional</td>\n",
       "    </tr>\n",
       "    <tr>\n",
       "      <th>6</th>\n",
       "      <td>6</td>\n",
       "      <td>deportista calificado</td>\n",
       "    </tr>\n",
       "    <tr>\n",
       "      <th>7</th>\n",
       "      <td>7</td>\n",
       "      <td>deportistas calificados de alto nivel</td>\n",
       "    </tr>\n",
       "    <tr>\n",
       "      <th>8</th>\n",
       "      <td>8</td>\n",
       "      <td>comunidades nativas</td>\n",
       "    </tr>\n",
       "    <tr>\n",
       "      <th>9</th>\n",
       "      <td>9</td>\n",
       "      <td>personas con discapacidad</td>\n",
       "    </tr>\n",
       "    <tr>\n",
       "      <th>10</th>\n",
       "      <td>10</td>\n",
       "      <td>plan integral de reparaciones</td>\n",
       "    </tr>\n",
       "  </tbody>\n",
       "</table>\n",
       "</div>"
      ],
      "text/plain": [
       "    id_modalidad                                          Modalidad\n",
       "0              0  educación básica regular (ebr) y educación bás...\n",
       "1              1           primeros puestos de educación secundaria\n",
       "2              2                                   traslado interno\n",
       "3              3                              graduados o titulados\n",
       "4              4                          traslado externo nacional\n",
       "5              5                     traslado externo internacional\n",
       "6              6                              deportista calificado\n",
       "7              7              deportistas calificados de alto nivel\n",
       "8              8                                comunidades nativas\n",
       "9              9                          personas con discapacidad\n",
       "10            10                      plan integral de reparaciones"
      ]
     },
     "execution_count": 141,
     "metadata": {},
     "output_type": "execute_result"
    }
   ],
   "source": [
    "df_modalidad=pd.read_csv('./data/tabla_modalidad.csv')\n",
    "df_modalidad"
   ]
  },
  {
   "cell_type": "code",
   "execution_count": 175,
   "metadata": {},
   "outputs": [
    {
     "name": "stdout",
     "output_type": "stream",
     "text": [
      "Unexpected exception formatting exception. Falling back to standard exception\n"
     ]
    },
    {
     "name": "stderr",
     "output_type": "stream",
     "text": [
      "Traceback (most recent call last):\n",
      "  File \"pandas/_libs/parsers.pyx\", line 1124, in pandas._libs.parsers.TextReader._convert_tokens\n",
      "TypeError: Cannot cast array data from dtype('O') to dtype('float64') according to the rule 'safe'\n",
      "\n",
      "During handling of the above exception, another exception occurred:\n",
      "\n",
      "Traceback (most recent call last):\n",
      "  File \"/home/jhonvelasque/cursos/proyectos-personales/Admision2023/envSimulacro/lib/python3.8/site-packages/IPython/core/interactiveshell.py\", line 3460, in run_code\n",
      "    exec(code_obj, self.user_global_ns, self.user_ns)\n",
      "  File \"/tmp/ipykernel_1156/941129417.py\", line 1, in <module>\n",
      "    df_resultados=pd.read_csv('./data/tabla_resultados.csv',dtype={'PUNTAJE FINAL':float})\n",
      "  File \"/home/jhonvelasque/cursos/proyectos-personales/Admision2023/envSimulacro/lib/python3.8/site-packages/pandas/util/_decorators.py\", line 211, in wrapper\n",
      "    return func(*args, **kwargs)\n",
      "  File \"/home/jhonvelasque/cursos/proyectos-personales/Admision2023/envSimulacro/lib/python3.8/site-packages/pandas/util/_decorators.py\", line 331, in wrapper\n",
      "    return func(*args, **kwargs)\n",
      "  File \"/home/jhonvelasque/cursos/proyectos-personales/Admision2023/envSimulacro/lib/python3.8/site-packages/pandas/io/parsers/readers.py\", line 950, in read_csv\n",
      "    return _read(filepath_or_buffer, kwds)\n",
      "  File \"/home/jhonvelasque/cursos/proyectos-personales/Admision2023/envSimulacro/lib/python3.8/site-packages/pandas/io/parsers/readers.py\", line 611, in _read\n",
      "    return parser.read(nrows)\n",
      "  File \"/home/jhonvelasque/cursos/proyectos-personales/Admision2023/envSimulacro/lib/python3.8/site-packages/pandas/io/parsers/readers.py\", line 1778, in read\n",
      "    ) = self._engine.read(  # type: ignore[attr-defined]\n",
      "  File \"/home/jhonvelasque/cursos/proyectos-personales/Admision2023/envSimulacro/lib/python3.8/site-packages/pandas/io/parsers/c_parser_wrapper.py\", line 230, in read\n",
      "    chunks = self._reader.read_low_memory(nrows)\n",
      "  File \"pandas/_libs/parsers.pyx\", line 808, in pandas._libs.parsers.TextReader.read_low_memory\n",
      "  File \"pandas/_libs/parsers.pyx\", line 890, in pandas._libs.parsers.TextReader._read_rows\n",
      "  File \"pandas/_libs/parsers.pyx\", line 1037, in pandas._libs.parsers.TextReader._convert_column_data\n",
      "  File \"pandas/_libs/parsers.pyx\", line 1130, in pandas._libs.parsers.TextReader._convert_tokens\n",
      "ValueError: could not convert string to float: 'Art. 71º Reglamento'\n",
      "\n",
      "During handling of the above exception, another exception occurred:\n",
      "\n",
      "Traceback (most recent call last):\n",
      "  File \"/home/jhonvelasque/cursos/proyectos-personales/Admision2023/envSimulacro/lib/python3.8/site-packages/IPython/core/interactiveshell.py\", line 2057, in showtraceback\n",
      "    stb = self.InteractiveTB.structured_traceback(\n",
      "  File \"/home/jhonvelasque/cursos/proyectos-personales/Admision2023/envSimulacro/lib/python3.8/site-packages/IPython/core/ultratb.py\", line 1288, in structured_traceback\n",
      "    return FormattedTB.structured_traceback(\n",
      "  File \"/home/jhonvelasque/cursos/proyectos-personales/Admision2023/envSimulacro/lib/python3.8/site-packages/IPython/core/ultratb.py\", line 1177, in structured_traceback\n",
      "    return VerboseTB.structured_traceback(\n",
      "  File \"/home/jhonvelasque/cursos/proyectos-personales/Admision2023/envSimulacro/lib/python3.8/site-packages/IPython/core/ultratb.py\", line 1049, in structured_traceback\n",
      "    formatted_exceptions += self.format_exception_as_a_whole(etype, evalue, etb, lines_of_context,\n",
      "  File \"/home/jhonvelasque/cursos/proyectos-personales/Admision2023/envSimulacro/lib/python3.8/site-packages/IPython/core/ultratb.py\", line 935, in format_exception_as_a_whole\n",
      "    self.get_records(etb, number_of_lines_of_context, tb_offset) if etb else []\n",
      "  File \"/home/jhonvelasque/cursos/proyectos-personales/Admision2023/envSimulacro/lib/python3.8/site-packages/IPython/core/ultratb.py\", line 1003, in get_records\n",
      "    lines, first = inspect.getsourcelines(etb.tb_frame)\n",
      "  File \"/usr/lib/python3.8/inspect.py\", line 979, in getsourcelines\n",
      "    lines, lnum = findsource(object)\n",
      "  File \"/usr/lib/python3.8/inspect.py\", line 798, in findsource\n",
      "    raise OSError('could not get source code')\n",
      "OSError: could not get source code\n"
     ]
    }
   ],
   "source": [
    "df_resultados=pd.read_csv('./data/tabla_resultados.csv',dtype={'PUNTAJE FINAL':float})\n",
    "df_resultados"
   ]
  },
  {
   "cell_type": "code",
   "execution_count": 176,
   "metadata": {},
   "outputs": [
    {
     "name": "stdout",
     "output_type": "stream",
     "text": [
      "<class 'pandas.core.frame.DataFrame'>\n",
      "Int64Index: 25352 entries, 855168 to 294995\n",
      "Data columns (total 6 columns):\n",
      " #   Column               Non-Null Count  Dtype  \n",
      "---  ------               --------------  -----  \n",
      " 0   APELLIDOS Y NOMBRES  25352 non-null  object \n",
      " 1   ESCUELA PROFESIONAL  25352 non-null  object \n",
      " 2   PUNTAJE FINAL        25352 non-null  object \n",
      " 3   MERITO E.P           25352 non-null  float64\n",
      " 4   OBSERVACIÓN          25352 non-null  object \n",
      " 5   IdModalidad          25352 non-null  int64  \n",
      "dtypes: float64(1), int64(1), object(4)\n",
      "memory usage: 1.4+ MB\n"
     ]
    }
   ],
   "source": [
    "df_resultados.info()"
   ]
  },
  {
   "cell_type": "code",
   "execution_count": 144,
   "metadata": {},
   "outputs": [
    {
     "name": "stdout",
     "output_type": "stream",
     "text": [
      "<class 'pandas.core.frame.DataFrame'>\n",
      "Int64Index: 25352 entries, 855168 to 294995\n",
      "Data columns (total 6 columns):\n",
      " #   Column               Non-Null Count  Dtype  \n",
      "---  ------               --------------  -----  \n",
      " 0   APELLIDOS Y NOMBRES  25352 non-null  object \n",
      " 1   ESCUELA PROFESIONAL  25352 non-null  object \n",
      " 2   PUNTAJE FINAL        25352 non-null  object \n",
      " 3   MERITO E.P           25352 non-null  float64\n",
      " 4   OBSERVACIÓN          25352 non-null  object \n",
      " 5   IdModalidad          25352 non-null  int64  \n",
      "dtypes: float64(1), int64(1), object(4)\n",
      "memory usage: 1.4+ MB\n"
     ]
    }
   ],
   "source": [
    "df_resultados.info()"
   ]
  },
  {
   "cell_type": "code",
   "execution_count": 145,
   "metadata": {},
   "outputs": [
    {
     "name": "stderr",
     "output_type": "stream",
     "text": [
      "/tmp/ipykernel_1156/3133358354.py:1: SettingWithCopyWarning: \n",
      "A value is trying to be set on a copy of a slice from a DataFrame\n",
      "\n",
      "See the caveats in the documentation: https://pandas.pydata.org/pandas-docs/stable/user_guide/indexing.html#returning-a-view-versus-a-copy\n",
      "  df_resultados.rename(columns={'OBSERVACI&OacuteN':'OBSERVACIÓN'},inplace=True)\n"
     ]
    }
   ],
   "source": [
    "df_resultados.rename(columns={'OBSERVACI&OacuteN':'OBSERVACIÓN'},inplace=True)"
   ]
  },
  {
   "cell_type": "code",
   "execution_count": 146,
   "metadata": {},
   "outputs": [
    {
     "name": "stdout",
     "output_type": "stream",
     "text": [
      "<class 'pandas.core.frame.DataFrame'>\n",
      "Int64Index: 25352 entries, 855168 to 294995\n",
      "Data columns (total 6 columns):\n",
      " #   Column               Non-Null Count  Dtype  \n",
      "---  ------               --------------  -----  \n",
      " 0   APELLIDOS Y NOMBRES  25352 non-null  object \n",
      " 1   ESCUELA PROFESIONAL  25352 non-null  object \n",
      " 2   PUNTAJE FINAL        25352 non-null  object \n",
      " 3   MERITO E.P           25352 non-null  float64\n",
      " 4   OBSERVACIÓN          25352 non-null  object \n",
      " 5   IdModalidad          25352 non-null  int64  \n",
      "dtypes: float64(1), int64(1), object(4)\n",
      "memory usage: 1.4+ MB\n"
     ]
    }
   ],
   "source": [
    "df_resultados.info()"
   ]
  },
  {
   "cell_type": "code",
   "execution_count": 147,
   "metadata": {},
   "outputs": [],
   "source": [
    "df_Ausentes=df_resultados[df_resultados['OBSERVACIÓN']=='AUSENTE']"
   ]
  },
  {
   "cell_type": "code",
   "execution_count": 148,
   "metadata": {},
   "outputs": [
    {
     "data": {
      "text/html": [
       "<div>\n",
       "<style scoped>\n",
       "    .dataframe tbody tr th:only-of-type {\n",
       "        vertical-align: middle;\n",
       "    }\n",
       "\n",
       "    .dataframe tbody tr th {\n",
       "        vertical-align: top;\n",
       "    }\n",
       "\n",
       "    .dataframe thead th {\n",
       "        text-align: right;\n",
       "    }\n",
       "</style>\n",
       "<table border=\"1\" class=\"dataframe\">\n",
       "  <thead>\n",
       "    <tr style=\"text-align: right;\">\n",
       "      <th></th>\n",
       "      <th>IdModalidad</th>\n",
       "      <th>APELLIDOS Y NOMBRES</th>\n",
       "    </tr>\n",
       "  </thead>\n",
       "  <tbody>\n",
       "  </tbody>\n",
       "</table>\n",
       "</div>"
      ],
      "text/plain": [
       "Empty DataFrame\n",
       "Columns: [IdModalidad, APELLIDOS Y NOMBRES]\n",
       "Index: []"
      ]
     },
     "execution_count": 148,
     "metadata": {},
     "output_type": "execute_result"
    }
   ],
   "source": [
    "df_Ausentes.groupby(['IdModalidad'])['APELLIDOS Y NOMBRES'].count().reset_index()"
   ]
  },
  {
   "cell_type": "code",
   "execution_count": 149,
   "metadata": {},
   "outputs": [
    {
     "data": {
      "text/html": [
       "<div>\n",
       "<style scoped>\n",
       "    .dataframe tbody tr th:only-of-type {\n",
       "        vertical-align: middle;\n",
       "    }\n",
       "\n",
       "    .dataframe tbody tr th {\n",
       "        vertical-align: top;\n",
       "    }\n",
       "\n",
       "    .dataframe thead th {\n",
       "        text-align: right;\n",
       "    }\n",
       "</style>\n",
       "<table border=\"1\" class=\"dataframe\">\n",
       "  <thead>\n",
       "    <tr style=\"text-align: right;\">\n",
       "      <th></th>\n",
       "      <th>ESCUELA PROFESIONAL</th>\n",
       "      <th>APELLIDOS Y NOMBRES</th>\n",
       "    </tr>\n",
       "  </thead>\n",
       "  <tbody>\n",
       "  </tbody>\n",
       "</table>\n",
       "</div>"
      ],
      "text/plain": [
       "Empty DataFrame\n",
       "Columns: [ESCUELA PROFESIONAL, APELLIDOS Y NOMBRES]\n",
       "Index: []"
      ]
     },
     "execution_count": 149,
     "metadata": {},
     "output_type": "execute_result"
    }
   ],
   "source": [
    "df_Ausentes.groupby(['ESCUELA PROFESIONAL'])['APELLIDOS Y NOMBRES'].count().reset_index().sort_values(by='APELLIDOS Y NOMBRES',ascending=False)"
   ]
  },
  {
   "cell_type": "code",
   "execution_count": 150,
   "metadata": {},
   "outputs": [],
   "source": [
    "lista_carreras=df_resultados['ESCUELA PROFESIONAL'].unique()\n",
    "#seve que hay datos que nos dan la misma informacion que falta normalizar "
   ]
  },
  {
   "cell_type": "code",
   "execution_count": 151,
   "metadata": {},
   "outputs": [],
   "source": [
    "#buscando todas la carreras que se repiten \n",
    "administracion=list(filter(lambda x:'ADMINISTRACIÓN' in x ,df_resultados['ESCUELA PROFESIONAL'].unique()))"
   ]
  },
  {
   "cell_type": "code",
   "execution_count": 152,
   "metadata": {},
   "outputs": [],
   "source": [
    "administracion=administracion[:3:]"
   ]
  },
  {
   "cell_type": "code",
   "execution_count": 153,
   "metadata": {},
   "outputs": [
    {
     "name": "stderr",
     "output_type": "stream",
     "text": [
      "/tmp/ipykernel_1156/2346800936.py:1: SettingWithCopyWarning: \n",
      "A value is trying to be set on a copy of a slice from a DataFrame.\n",
      "Try using .loc[row_indexer,col_indexer] = value instead\n",
      "\n",
      "See the caveats in the documentation: https://pandas.pydata.org/pandas-docs/stable/user_guide/indexing.html#returning-a-view-versus-a-copy\n",
      "  df_resultados['ESCUELA PROFESIONAL'] =df_resultados['ESCUELA PROFESIONAL'].replace(administracion,'ADMINISTRACIÓN')\n"
     ]
    }
   ],
   "source": [
    "df_resultados['ESCUELA PROFESIONAL'] =df_resultados['ESCUELA PROFESIONAL'].replace(administracion,'ADMINISTRACIÓN')"
   ]
  },
  {
   "cell_type": "code",
   "execution_count": 154,
   "metadata": {},
   "outputs": [],
   "source": [
    "administracion_turismo=list(filter(lambda x:'ADMINISTRACIÓN DE TURISMO' in x ,df_resultados['ESCUELA PROFESIONAL'].unique()))"
   ]
  },
  {
   "cell_type": "code",
   "execution_count": 155,
   "metadata": {},
   "outputs": [
    {
     "name": "stderr",
     "output_type": "stream",
     "text": [
      "/tmp/ipykernel_1156/3529930030.py:1: SettingWithCopyWarning: \n",
      "A value is trying to be set on a copy of a slice from a DataFrame.\n",
      "Try using .loc[row_indexer,col_indexer] = value instead\n",
      "\n",
      "See the caveats in the documentation: https://pandas.pydata.org/pandas-docs/stable/user_guide/indexing.html#returning-a-view-versus-a-copy\n",
      "  df_resultados['ESCUELA PROFESIONAL'] =df_resultados['ESCUELA PROFESIONAL'].replace(administracion_turismo,'ADMINISTRACIÓN DE TURISMO')\n"
     ]
    }
   ],
   "source": [
    "df_resultados['ESCUELA PROFESIONAL'] =df_resultados['ESCUELA PROFESIONAL'].replace(administracion_turismo,'ADMINISTRACIÓN DE TURISMO')"
   ]
  },
  {
   "cell_type": "code",
   "execution_count": 156,
   "metadata": {},
   "outputs": [],
   "source": [
    "administracion_Internacionales=list(filter(lambda x:'ADMINISTRACIÓN DE NEGOCIOS INTERNACIONALES' in x ,df_resultados['ESCUELA PROFESIONAL'].unique()))"
   ]
  },
  {
   "cell_type": "code",
   "execution_count": 157,
   "metadata": {},
   "outputs": [
    {
     "name": "stderr",
     "output_type": "stream",
     "text": [
      "/tmp/ipykernel_1156/1330852710.py:1: SettingWithCopyWarning: \n",
      "A value is trying to be set on a copy of a slice from a DataFrame.\n",
      "Try using .loc[row_indexer,col_indexer] = value instead\n",
      "\n",
      "See the caveats in the documentation: https://pandas.pydata.org/pandas-docs/stable/user_guide/indexing.html#returning-a-view-versus-a-copy\n",
      "  df_resultados['ESCUELA PROFESIONAL'] =df_resultados['ESCUELA PROFESIONAL'].replace(administracion_Internacionales,'ADMINISTRACIÓN DE NEGOCIOS INTERNACIONALES')\n"
     ]
    }
   ],
   "source": [
    "df_resultados['ESCUELA PROFESIONAL'] =df_resultados['ESCUELA PROFESIONAL'].replace(administracion_Internacionales,'ADMINISTRACIÓN DE NEGOCIOS INTERNACIONALES')"
   ]
  },
  {
   "cell_type": "code",
   "execution_count": 158,
   "metadata": {},
   "outputs": [
    {
     "name": "stderr",
     "output_type": "stream",
     "text": [
      "/tmp/ipykernel_1156/3648245003.py:2: SettingWithCopyWarning: \n",
      "A value is trying to be set on a copy of a slice from a DataFrame\n",
      "\n",
      "See the caveats in the documentation: https://pandas.pydata.org/pandas-docs/stable/user_guide/indexing.html#returning-a-view-versus-a-copy\n",
      "  df_resultados['OBSERVACIÓN'].fillna('NO INGRESO',inplace=True)\n"
     ]
    }
   ],
   "source": [
    "#IMPOTANDO VALORES CATEGORICOS \n",
    "df_resultados['OBSERVACIÓN'].fillna('NO INGRESO',inplace=True)"
   ]
  },
  {
   "cell_type": "code",
   "execution_count": 159,
   "metadata": {},
   "outputs": [],
   "source": [
    "#eliminando los Ausentes\n",
    "df_resultados=df_resultados[df_resultados['OBSERVACIÓN']!='AUSENTE']"
   ]
  },
  {
   "cell_type": "code",
   "execution_count": 160,
   "metadata": {},
   "outputs": [
    {
     "data": {
      "text/html": [
       "<div>\n",
       "<style scoped>\n",
       "    .dataframe tbody tr th:only-of-type {\n",
       "        vertical-align: middle;\n",
       "    }\n",
       "\n",
       "    .dataframe tbody tr th {\n",
       "        vertical-align: top;\n",
       "    }\n",
       "\n",
       "    .dataframe thead th {\n",
       "        text-align: right;\n",
       "    }\n",
       "</style>\n",
       "<table border=\"1\" class=\"dataframe\">\n",
       "  <thead>\n",
       "    <tr style=\"text-align: right;\">\n",
       "      <th></th>\n",
       "      <th>APELLIDOS Y NOMBRES</th>\n",
       "      <th>ESCUELA PROFESIONAL</th>\n",
       "      <th>PUNTAJE FINAL</th>\n",
       "      <th>MERITO E.P</th>\n",
       "      <th>OBSERVACIÓN</th>\n",
       "      <th>IdModalidad</th>\n",
       "    </tr>\n",
       "    <tr>\n",
       "      <th>CODIGO</th>\n",
       "      <th></th>\n",
       "      <th></th>\n",
       "      <th></th>\n",
       "      <th></th>\n",
       "      <th></th>\n",
       "      <th></th>\n",
       "    </tr>\n",
       "  </thead>\n",
       "  <tbody>\n",
       "    <tr>\n",
       "      <th>854055</th>\n",
       "      <td>RAMIREZ REYNAGA, KAORI AREZBI</td>\n",
       "      <td>MEDICINA HUMANA</td>\n",
       "      <td>1000.625</td>\n",
       "      <td>0.0</td>\n",
       "      <td>NO INGRESO</td>\n",
       "      <td>0</td>\n",
       "    </tr>\n",
       "    <tr>\n",
       "      <th>856013</th>\n",
       "      <td>CÁCERES SÁNCHEZ, GERALDINE LILIBETH CHANTAL</td>\n",
       "      <td>MEDICINA HUMANA</td>\n",
       "      <td>1000.625</td>\n",
       "      <td>0.0</td>\n",
       "      <td>NO INGRESO</td>\n",
       "      <td>0</td>\n",
       "    </tr>\n",
       "    <tr>\n",
       "      <th>846922</th>\n",
       "      <td>SOLÍS LÓPEZ, GIANELLA ARACELLY</td>\n",
       "      <td>MEDICINA HUMANA</td>\n",
       "      <td>1001.75</td>\n",
       "      <td>0.0</td>\n",
       "      <td>NO INGRESO</td>\n",
       "      <td>0</td>\n",
       "    </tr>\n",
       "    <tr>\n",
       "      <th>871967</th>\n",
       "      <td>ÑAHUE TELLO, GIANCARLO GINO MARTIN</td>\n",
       "      <td>MEDICINA HUMANA</td>\n",
       "      <td>1001.75</td>\n",
       "      <td>0.0</td>\n",
       "      <td>NO INGRESO</td>\n",
       "      <td>0</td>\n",
       "    </tr>\n",
       "    <tr>\n",
       "      <th>893799</th>\n",
       "      <td>RADO ARRIOLA, TOMAS SEBASTIAN</td>\n",
       "      <td>MEDICINA HUMANA</td>\n",
       "      <td>1001.75</td>\n",
       "      <td>0.0</td>\n",
       "      <td>NO INGRESO</td>\n",
       "      <td>0</td>\n",
       "    </tr>\n",
       "    <tr>\n",
       "      <th>...</th>\n",
       "      <td>...</td>\n",
       "      <td>...</td>\n",
       "      <td>...</td>\n",
       "      <td>...</td>\n",
       "      <td>...</td>\n",
       "      <td>...</td>\n",
       "    </tr>\n",
       "    <tr>\n",
       "      <th>867512</th>\n",
       "      <td>CRUZ VALQUI, ALVARO TOM</td>\n",
       "      <td>MEDICINA HUMANA</td>\n",
       "      <td>995.25</td>\n",
       "      <td>0.0</td>\n",
       "      <td>NO INGRESO</td>\n",
       "      <td>0</td>\n",
       "    </tr>\n",
       "    <tr>\n",
       "      <th>882243</th>\n",
       "      <td>ROMERO ACOSTA, MICHAEL DENIS</td>\n",
       "      <td>MEDICINA HUMANA</td>\n",
       "      <td>996.125</td>\n",
       "      <td>0.0</td>\n",
       "      <td>NO INGRESO</td>\n",
       "      <td>0</td>\n",
       "    </tr>\n",
       "    <tr>\n",
       "      <th>886580</th>\n",
       "      <td>VERONA MAURICIO, GLADYS LUCERO</td>\n",
       "      <td>MEDICINA HUMANA</td>\n",
       "      <td>996.375</td>\n",
       "      <td>0.0</td>\n",
       "      <td>NO INGRESO</td>\n",
       "      <td>0</td>\n",
       "    </tr>\n",
       "    <tr>\n",
       "      <th>851850</th>\n",
       "      <td>IGREDA DIAZ, ANDRÉS BELISARIO</td>\n",
       "      <td>MEDICINA HUMANA</td>\n",
       "      <td>998.375</td>\n",
       "      <td>0.0</td>\n",
       "      <td>NO INGRESO</td>\n",
       "      <td>0</td>\n",
       "    </tr>\n",
       "    <tr>\n",
       "      <th>897573</th>\n",
       "      <td>ESPINOZA CARBAJAL, DANIEL ANDRE</td>\n",
       "      <td>MEDICINA HUMANA</td>\n",
       "      <td>998.375</td>\n",
       "      <td>0.0</td>\n",
       "      <td>NO INGRESO</td>\n",
       "      <td>0</td>\n",
       "    </tr>\n",
       "  </tbody>\n",
       "</table>\n",
       "<p>3825 rows × 6 columns</p>\n",
       "</div>"
      ],
      "text/plain": [
       "                                APELLIDOS Y NOMBRES ESCUELA PROFESIONAL  \\\n",
       "CODIGO                                                                    \n",
       "854055                RAMIREZ REYNAGA, KAORI AREZBI     MEDICINA HUMANA   \n",
       "856013  CÁCERES SÁNCHEZ, GERALDINE LILIBETH CHANTAL     MEDICINA HUMANA   \n",
       "846922               SOLÍS LÓPEZ, GIANELLA ARACELLY     MEDICINA HUMANA   \n",
       "871967           ÑAHUE TELLO, GIANCARLO GINO MARTIN     MEDICINA HUMANA   \n",
       "893799                RADO ARRIOLA, TOMAS SEBASTIAN     MEDICINA HUMANA   \n",
       "...                                             ...                 ...   \n",
       "867512                      CRUZ VALQUI, ALVARO TOM     MEDICINA HUMANA   \n",
       "882243                 ROMERO ACOSTA, MICHAEL DENIS     MEDICINA HUMANA   \n",
       "886580               VERONA MAURICIO, GLADYS LUCERO     MEDICINA HUMANA   \n",
       "851850                IGREDA DIAZ, ANDRÉS BELISARIO     MEDICINA HUMANA   \n",
       "897573              ESPINOZA CARBAJAL, DANIEL ANDRE     MEDICINA HUMANA   \n",
       "\n",
       "       PUNTAJE FINAL  MERITO E.P OBSERVACIÓN  IdModalidad  \n",
       "CODIGO                                                     \n",
       "854055      1000.625         0.0  NO INGRESO            0  \n",
       "856013      1000.625         0.0  NO INGRESO            0  \n",
       "846922       1001.75         0.0  NO INGRESO            0  \n",
       "871967       1001.75         0.0  NO INGRESO            0  \n",
       "893799       1001.75         0.0  NO INGRESO            0  \n",
       "...              ...         ...         ...          ...  \n",
       "867512        995.25         0.0  NO INGRESO            0  \n",
       "882243       996.125         0.0  NO INGRESO            0  \n",
       "886580       996.375         0.0  NO INGRESO            0  \n",
       "851850       998.375         0.0  NO INGRESO            0  \n",
       "897573       998.375         0.0  NO INGRESO            0  \n",
       "\n",
       "[3825 rows x 6 columns]"
      ]
     },
     "execution_count": 160,
     "metadata": {},
     "output_type": "execute_result"
    }
   ],
   "source": [
    "df_resultados[(df_resultados['IdModalidad'] == 0) & (df_resultados['ESCUELA PROFESIONAL'] == 'MEDICINA HUMANA')].sort_values(by='PUNTAJE FINAL')"
   ]
  },
  {
   "cell_type": "code",
   "execution_count": 161,
   "metadata": {},
   "outputs": [
    {
     "name": "stdout",
     "output_type": "stream",
     "text": [
      "<class 'pandas.core.frame.DataFrame'>\n",
      "Int64Index: 25352 entries, 855168 to 294995\n",
      "Data columns (total 6 columns):\n",
      " #   Column               Non-Null Count  Dtype  \n",
      "---  ------               --------------  -----  \n",
      " 0   APELLIDOS Y NOMBRES  25352 non-null  object \n",
      " 1   ESCUELA PROFESIONAL  25352 non-null  object \n",
      " 2   PUNTAJE FINAL        25352 non-null  object \n",
      " 3   MERITO E.P           25352 non-null  float64\n",
      " 4   OBSERVACIÓN          25352 non-null  object \n",
      " 5   IdModalidad          25352 non-null  int64  \n",
      "dtypes: float64(1), int64(1), object(4)\n",
      "memory usage: 1.4+ MB\n"
     ]
    }
   ],
   "source": [
    "#falta modificar el tipodedato apra Puntaje final \n",
    "df_resultados.info()"
   ]
  },
  {
   "cell_type": "code",
   "execution_count": 162,
   "metadata": {},
   "outputs": [],
   "source": [
    "carreras={\n",
    "    \"D\": [\n",
    "        \"Administración\",\n",
    "        \"Administración de Turismo\",\n",
    "        \"Administración de Negocios Internacionales\",\n",
    "        \"Contabilidad\",\n",
    "        \"Gestión Tributaria\",\n",
    "        \"Auditoría Empresarial y del Sector Público\",\n",
    "        \"Presupuesto y Finanzas Públicas\",\n",
    "        \"Economía\",\n",
    "        \"Economía Pública\",\n",
    "        \"Economía Internacional\"\n",
    "    ],\n",
    "    \"A\": [\n",
    "        \"Medicina Humana\",\n",
    "        \"Obstetricia\",\n",
    "        \"Enfermería\",\n",
    "        \"Laboratorio Clínico\",\n",
    "        \"Terapia Física y Rehabilitación\",\n",
    "        \"Radiología\",\n",
    "        \"Terapia Ocupacional\",\n",
    "        \"Nutrición\",\n",
    "        \"Farmacia y Bioquímica\",\n",
    "        \"Ciencias de los Alimentos\",\n",
    "        \"Toxicología\",\n",
    "        \"Odontología\",\n",
    "        \"Medicina Veterinaria\",\n",
    "        \"Psicología\",\n",
    "        \"Psicología Organizacional y de la Gestión Humana\"\n",
    "    ],\n",
    "    \"B\": [\n",
    "        \"Química\",\n",
    "        \"Ciencias Biológicas\",\n",
    "        \"Genética y Biotecnología\",\n",
    "        \"Microbiología y Parasitología\",\n",
    "        \"Física\",\n",
    "        \"Matemática\",\n",
    "        \"Estadística\",\n",
    "        \"Investigación Operativa\",\n",
    "        \"Computación Científica\"\n",
    "    ],\n",
    "    \"C\": [\n",
    "        \"Ingeniería Química\",\n",
    "        \"Ingeniería Agroindustrial\",\n",
    "        \"Ingeniería Mecánica de Fluidos\",\n",
    "        \"Ingeniería Geológica\",\n",
    "        \"Ingeniería Geográfica\",\n",
    "        \"Ingeniería de Minas\",\n",
    "        \"Ingeniería Metalúrgica\",\n",
    "        \"Ingeniería Civil\",\n",
    "        \"Ingeniería Ambiental\",\n",
    "        \"Ingeniería Industrial\",\n",
    "        \"Ingeniería Textil y Confecciones\",\n",
    "        \"Ingeniería de Seguridad y Salud en el Trabajo\",\n",
    "        \"Ingeniería Electrónica\",\n",
    "        \"Ingeniería Eléctrica\",\n",
    "        \"Ingeniería de Telecomunicaciones\",\n",
    "        \"Ingeniería Biomédica\",\n",
    "        \"Ingeniería de Sistemas\",\n",
    "        \"Ingeniería de Software\"\n",
    "    ],\n",
    "    \"E\": ['Derecho', \n",
    "            'Ciencia Política', \n",
    "            'Literatura', \n",
    "            'Filosofía', \n",
    "            'Lingüística', \n",
    "            'Comunicación Social', \n",
    "            'Arte', 'Bibliotecología y Ciencias de la Información',\n",
    "            'Danza', 'Conservación y Restauración',\n",
    "            'Educación Inicial', 'Educación Primaria', \n",
    "            'Educación Secundaria', 'Educación Física',\n",
    "            'Historia', 'Sociología', 'Antropología',\n",
    "            'Arqueología', 'Trabajo Social',\n",
    "            'Geografía']\n",
    "\n",
    "}"
   ]
  },
  {
   "cell_type": "code",
   "execution_count": 163,
   "metadata": {},
   "outputs": [
    {
     "data": {
      "text/plain": [
       "Index(['APELLIDOS Y NOMBRES', 'ESCUELA PROFESIONAL', 'PUNTAJE FINAL',\n",
       "       'MERITO E.P', 'OBSERVACIÓN', 'IdModalidad'],\n",
       "      dtype='object')"
      ]
     },
     "execution_count": 163,
     "metadata": {},
     "output_type": "execute_result"
    }
   ],
   "source": [
    "df_resultados.columns"
   ]
  },
  {
   "cell_type": "code",
   "execution_count": 164,
   "metadata": {},
   "outputs": [
    {
     "data": {
      "text/html": [
       "<div>\n",
       "<style scoped>\n",
       "    .dataframe tbody tr th:only-of-type {\n",
       "        vertical-align: middle;\n",
       "    }\n",
       "\n",
       "    .dataframe tbody tr th {\n",
       "        vertical-align: top;\n",
       "    }\n",
       "\n",
       "    .dataframe thead th {\n",
       "        text-align: right;\n",
       "    }\n",
       "</style>\n",
       "<table border=\"1\" class=\"dataframe\">\n",
       "  <thead>\n",
       "    <tr style=\"text-align: right;\">\n",
       "      <th></th>\n",
       "      <th>APELLIDOS Y NOMBRES</th>\n",
       "      <th>ESCUELA PROFESIONAL</th>\n",
       "      <th>PUNTAJE FINAL</th>\n",
       "      <th>MERITO E.P</th>\n",
       "      <th>OBSERVACIÓN</th>\n",
       "      <th>IdModalidad</th>\n",
       "    </tr>\n",
       "    <tr>\n",
       "      <th>CODIGO</th>\n",
       "      <th></th>\n",
       "      <th></th>\n",
       "      <th></th>\n",
       "      <th></th>\n",
       "      <th></th>\n",
       "      <th></th>\n",
       "    </tr>\n",
       "  </thead>\n",
       "  <tbody>\n",
       "    <tr>\n",
       "      <th>883650</th>\n",
       "      <td>RUBIO ROJAS, ANDREA REGINA</td>\n",
       "      <td>MEDICINA HUMANA</td>\n",
       "      <td>1120.625</td>\n",
       "      <td>106.0</td>\n",
       "      <td>ALCANZO VACANTE</td>\n",
       "      <td>0</td>\n",
       "    </tr>\n",
       "    <tr>\n",
       "      <th>880681</th>\n",
       "      <td>LEVANO APARCANA, JOSE EDUARDO</td>\n",
       "      <td>MEDICINA HUMANA</td>\n",
       "      <td>1121.75</td>\n",
       "      <td>105.0</td>\n",
       "      <td>ALCANZO VACANTE</td>\n",
       "      <td>0</td>\n",
       "    </tr>\n",
       "    <tr>\n",
       "      <th>864799</th>\n",
       "      <td>ANDAZABAL REBAZA, JOSE MANUEL</td>\n",
       "      <td>MEDICINA HUMANA</td>\n",
       "      <td>1121.75</td>\n",
       "      <td>104.0</td>\n",
       "      <td>ALCANZO VACANTE</td>\n",
       "      <td>0</td>\n",
       "    </tr>\n",
       "    <tr>\n",
       "      <th>897354</th>\n",
       "      <td>LEON HERRERA, JHUNIOR ANDERSON</td>\n",
       "      <td>MEDICINA HUMANA</td>\n",
       "      <td>1124.0</td>\n",
       "      <td>103.0</td>\n",
       "      <td>ALCANZO VACANTE</td>\n",
       "      <td>0</td>\n",
       "    </tr>\n",
       "    <tr>\n",
       "      <th>849640</th>\n",
       "      <td>PACHECO HUAMAN, BONNY DAANA</td>\n",
       "      <td>MEDICINA HUMANA</td>\n",
       "      <td>1127.375</td>\n",
       "      <td>102.0</td>\n",
       "      <td>ALCANZO VACANTE</td>\n",
       "      <td>0</td>\n",
       "    </tr>\n",
       "    <tr>\n",
       "      <th>...</th>\n",
       "      <td>...</td>\n",
       "      <td>...</td>\n",
       "      <td>...</td>\n",
       "      <td>...</td>\n",
       "      <td>...</td>\n",
       "      <td>...</td>\n",
       "    </tr>\n",
       "    <tr>\n",
       "      <th>884340</th>\n",
       "      <td>FRANCISCO CEFERINO, LUZ MILAGROS</td>\n",
       "      <td>MEDICINA HUMANA</td>\n",
       "      <td>398.125</td>\n",
       "      <td>0.0</td>\n",
       "      <td>NO INGRESO</td>\n",
       "      <td>0</td>\n",
       "    </tr>\n",
       "    <tr>\n",
       "      <th>889180</th>\n",
       "      <td>FRANCISCO COLLANTES, TAMARA PAMELA</td>\n",
       "      <td>MEDICINA HUMANA</td>\n",
       "      <td>649.625</td>\n",
       "      <td>0.0</td>\n",
       "      <td>NO INGRESO</td>\n",
       "      <td>0</td>\n",
       "    </tr>\n",
       "    <tr>\n",
       "      <th>847015</th>\n",
       "      <td>FRETEL DIEGO, TAYCI SAMARHA</td>\n",
       "      <td>MEDICINA HUMANA</td>\n",
       "      <td>643.75</td>\n",
       "      <td>0.0</td>\n",
       "      <td>NO INGRESO</td>\n",
       "      <td>0</td>\n",
       "    </tr>\n",
       "    <tr>\n",
       "      <th>879444</th>\n",
       "      <td>FRITAS PANDURO, BIANCA EUNICE</td>\n",
       "      <td>MEDICINA HUMANA</td>\n",
       "      <td>402.375</td>\n",
       "      <td>0.0</td>\n",
       "      <td>NO INGRESO</td>\n",
       "      <td>0</td>\n",
       "    </tr>\n",
       "    <tr>\n",
       "      <th>889012</th>\n",
       "      <td>LOYOLA CHANG, ERASMO ALEXANDER</td>\n",
       "      <td>MEDICINA HUMANA</td>\n",
       "      <td>762.875</td>\n",
       "      <td>0.0</td>\n",
       "      <td>NO INGRESO</td>\n",
       "      <td>0</td>\n",
       "    </tr>\n",
       "  </tbody>\n",
       "</table>\n",
       "<p>3825 rows × 6 columns</p>\n",
       "</div>"
      ],
      "text/plain": [
       "                       APELLIDOS Y NOMBRES ESCUELA PROFESIONAL PUNTAJE FINAL  \\\n",
       "CODIGO                                                                         \n",
       "883650          RUBIO ROJAS, ANDREA REGINA     MEDICINA HUMANA      1120.625   \n",
       "880681       LEVANO APARCANA, JOSE EDUARDO     MEDICINA HUMANA       1121.75   \n",
       "864799       ANDAZABAL REBAZA, JOSE MANUEL     MEDICINA HUMANA       1121.75   \n",
       "897354      LEON HERRERA, JHUNIOR ANDERSON     MEDICINA HUMANA        1124.0   \n",
       "849640         PACHECO HUAMAN, BONNY DAANA     MEDICINA HUMANA      1127.375   \n",
       "...                                    ...                 ...           ...   \n",
       "884340    FRANCISCO CEFERINO, LUZ MILAGROS     MEDICINA HUMANA       398.125   \n",
       "889180  FRANCISCO COLLANTES, TAMARA PAMELA     MEDICINA HUMANA       649.625   \n",
       "847015         FRETEL DIEGO, TAYCI SAMARHA     MEDICINA HUMANA        643.75   \n",
       "879444       FRITAS PANDURO, BIANCA EUNICE     MEDICINA HUMANA       402.375   \n",
       "889012      LOYOLA CHANG, ERASMO ALEXANDER     MEDICINA HUMANA       762.875   \n",
       "\n",
       "        MERITO E.P      OBSERVACIÓN  IdModalidad  \n",
       "CODIGO                                            \n",
       "883650       106.0  ALCANZO VACANTE            0  \n",
       "880681       105.0  ALCANZO VACANTE            0  \n",
       "864799       104.0  ALCANZO VACANTE            0  \n",
       "897354       103.0  ALCANZO VACANTE            0  \n",
       "849640       102.0  ALCANZO VACANTE            0  \n",
       "...            ...              ...          ...  \n",
       "884340         0.0       NO INGRESO            0  \n",
       "889180         0.0       NO INGRESO            0  \n",
       "847015         0.0       NO INGRESO            0  \n",
       "879444         0.0       NO INGRESO            0  \n",
       "889012         0.0       NO INGRESO            0  \n",
       "\n",
       "[3825 rows x 6 columns]"
      ]
     },
     "execution_count": 164,
     "metadata": {},
     "output_type": "execute_result"
    }
   ],
   "source": [
    "df_resultados[(df_resultados['ESCUELA PROFESIONAL']=='MEDICINA HUMANA')& (df_resultados['IdModalidad']==0)].sort_values(by='MERITO E.P',ascending=False)"
   ]
  },
  {
   "cell_type": "code",
   "execution_count": 165,
   "metadata": {},
   "outputs": [],
   "source": [
    "# imputando los valores faltantes"
   ]
  },
  {
   "cell_type": "code",
   "execution_count": 166,
   "metadata": {},
   "outputs": [],
   "source": [
    "df_resultados['MERITO E.P'].fillna(0,inplace=True)"
   ]
  },
  {
   "cell_type": "code",
   "execution_count": 167,
   "metadata": {},
   "outputs": [
    {
     "data": {
      "text/html": [
       "<div>\n",
       "<style scoped>\n",
       "    .dataframe tbody tr th:only-of-type {\n",
       "        vertical-align: middle;\n",
       "    }\n",
       "\n",
       "    .dataframe tbody tr th {\n",
       "        vertical-align: top;\n",
       "    }\n",
       "\n",
       "    .dataframe thead th {\n",
       "        text-align: right;\n",
       "    }\n",
       "</style>\n",
       "<table border=\"1\" class=\"dataframe\">\n",
       "  <thead>\n",
       "    <tr style=\"text-align: right;\">\n",
       "      <th></th>\n",
       "      <th>APELLIDOS Y NOMBRES</th>\n",
       "      <th>ESCUELA PROFESIONAL</th>\n",
       "      <th>PUNTAJE FINAL</th>\n",
       "      <th>MERITO E.P</th>\n",
       "      <th>OBSERVACIÓN</th>\n",
       "      <th>IdModalidad</th>\n",
       "    </tr>\n",
       "    <tr>\n",
       "      <th>CODIGO</th>\n",
       "      <th></th>\n",
       "      <th></th>\n",
       "      <th></th>\n",
       "      <th></th>\n",
       "      <th></th>\n",
       "      <th></th>\n",
       "    </tr>\n",
       "  </thead>\n",
       "  <tbody>\n",
       "    <tr>\n",
       "      <th>894014</th>\n",
       "      <td>HURTADO SEVILLANO, RAPHAEL OSWALDO</td>\n",
       "      <td>MEDICINA HUMANA</td>\n",
       "      <td>1477.5</td>\n",
       "      <td>1.0</td>\n",
       "      <td>ALCANZO VACANTE</td>\n",
       "      <td>0</td>\n",
       "    </tr>\n",
       "    <tr>\n",
       "      <th>851901</th>\n",
       "      <td>REYES ARRUNÁTEGUI, FERNANDO NICOLÁS</td>\n",
       "      <td>MEDICINA HUMANA</td>\n",
       "      <td>1369.625</td>\n",
       "      <td>1.0</td>\n",
       "      <td>ALCANZO VACANTE</td>\n",
       "      <td>1</td>\n",
       "    </tr>\n",
       "    <tr>\n",
       "      <th>878534</th>\n",
       "      <td>NEYRA GARCÍA, JOSÉ ALBERTO</td>\n",
       "      <td>MEDICINA HUMANA</td>\n",
       "      <td>1200.875</td>\n",
       "      <td>1.0</td>\n",
       "      <td>ALCANZO VACANTE</td>\n",
       "      <td>2</td>\n",
       "    </tr>\n",
       "    <tr>\n",
       "      <th>852198</th>\n",
       "      <td>SUÁREZ TORRES, JOSÉ ANTONIO</td>\n",
       "      <td>MEDICINA HUMANA</td>\n",
       "      <td>1156.375</td>\n",
       "      <td>1.0</td>\n",
       "      <td>ALCANZO VACANTE</td>\n",
       "      <td>3</td>\n",
       "    </tr>\n",
       "    <tr>\n",
       "      <th>883548</th>\n",
       "      <td>GONZALES CHOQUE, JOSE MANUEL</td>\n",
       "      <td>MEDICINA HUMANA</td>\n",
       "      <td>1008.5</td>\n",
       "      <td>1.0</td>\n",
       "      <td>ALCANZO VACANTE</td>\n",
       "      <td>4</td>\n",
       "    </tr>\n",
       "    <tr>\n",
       "      <th>885018</th>\n",
       "      <td>ASPARRIN PAREDES, JIMENA THAIS</td>\n",
       "      <td>MEDICINA HUMANA</td>\n",
       "      <td>818.375</td>\n",
       "      <td>1.0</td>\n",
       "      <td>ALCANZO VACANTE</td>\n",
       "      <td>6</td>\n",
       "    </tr>\n",
       "    <tr>\n",
       "      <th>855869</th>\n",
       "      <td>CORPUNA MONTES, PILAR</td>\n",
       "      <td>MEDICINA HUMANA</td>\n",
       "      <td>409.625</td>\n",
       "      <td>1.0</td>\n",
       "      <td>ALCANZO VACANTE</td>\n",
       "      <td>7</td>\n",
       "    </tr>\n",
       "    <tr>\n",
       "      <th>859528</th>\n",
       "      <td>COPARI RODRIGUEZ, MILTHON ALDAIR</td>\n",
       "      <td>MEDICINA HUMANA</td>\n",
       "      <td>640.625</td>\n",
       "      <td>1.0</td>\n",
       "      <td>ALCANZO VACANTE</td>\n",
       "      <td>8</td>\n",
       "    </tr>\n",
       "    <tr>\n",
       "      <th>847076</th>\n",
       "      <td>CUYA TINCO, BILL TAYLOR</td>\n",
       "      <td>MEDICINA HUMANA</td>\n",
       "      <td>883.75</td>\n",
       "      <td>1.0</td>\n",
       "      <td>ALCANZO VACANTE</td>\n",
       "      <td>9</td>\n",
       "    </tr>\n",
       "    <tr>\n",
       "      <th>868292</th>\n",
       "      <td>ARENALES MAITA, JEANN FRANCO</td>\n",
       "      <td>MEDICINA HUMANA</td>\n",
       "      <td>1112.75</td>\n",
       "      <td>1.0</td>\n",
       "      <td>ALCANZO VACANTE</td>\n",
       "      <td>10</td>\n",
       "    </tr>\n",
       "  </tbody>\n",
       "</table>\n",
       "</div>"
      ],
      "text/plain": [
       "                        APELLIDOS Y NOMBRES ESCUELA PROFESIONAL PUNTAJE FINAL  \\\n",
       "CODIGO                                                                          \n",
       "894014   HURTADO SEVILLANO, RAPHAEL OSWALDO     MEDICINA HUMANA        1477.5   \n",
       "851901  REYES ARRUNÁTEGUI, FERNANDO NICOLÁS     MEDICINA HUMANA      1369.625   \n",
       "878534           NEYRA GARCÍA, JOSÉ ALBERTO     MEDICINA HUMANA      1200.875   \n",
       "852198          SUÁREZ TORRES, JOSÉ ANTONIO     MEDICINA HUMANA      1156.375   \n",
       "883548         GONZALES CHOQUE, JOSE MANUEL     MEDICINA HUMANA        1008.5   \n",
       "885018       ASPARRIN PAREDES, JIMENA THAIS     MEDICINA HUMANA       818.375   \n",
       "855869                CORPUNA MONTES, PILAR     MEDICINA HUMANA       409.625   \n",
       "859528     COPARI RODRIGUEZ, MILTHON ALDAIR     MEDICINA HUMANA       640.625   \n",
       "847076              CUYA TINCO, BILL TAYLOR     MEDICINA HUMANA        883.75   \n",
       "868292         ARENALES MAITA, JEANN FRANCO     MEDICINA HUMANA       1112.75   \n",
       "\n",
       "        MERITO E.P      OBSERVACIÓN  IdModalidad  \n",
       "CODIGO                                            \n",
       "894014         1.0  ALCANZO VACANTE            0  \n",
       "851901         1.0  ALCANZO VACANTE            1  \n",
       "878534         1.0  ALCANZO VACANTE            2  \n",
       "852198         1.0  ALCANZO VACANTE            3  \n",
       "883548         1.0  ALCANZO VACANTE            4  \n",
       "885018         1.0  ALCANZO VACANTE            6  \n",
       "855869         1.0  ALCANZO VACANTE            7  \n",
       "859528         1.0  ALCANZO VACANTE            8  \n",
       "847076         1.0  ALCANZO VACANTE            9  \n",
       "868292         1.0  ALCANZO VACANTE           10  "
      ]
     },
     "execution_count": 167,
     "metadata": {},
     "output_type": "execute_result"
    }
   ],
   "source": [
    "#todos los primeros puestos de medicina humana\n",
    "df_resultados[(df_resultados['MERITO E.P']==1)\n",
    "            & (df_resultados['ESCUELA PROFESIONAL']=='MEDICINA HUMANA')]\n"
   ]
  },
  {
   "cell_type": "code",
   "execution_count": 168,
   "metadata": {},
   "outputs": [
    {
     "name": "stdout",
     "output_type": "stream",
     "text": [
      "<class 'pandas.core.frame.DataFrame'>\n",
      "Int64Index: 25352 entries, 855168 to 294995\n",
      "Data columns (total 6 columns):\n",
      " #   Column               Non-Null Count  Dtype  \n",
      "---  ------               --------------  -----  \n",
      " 0   APELLIDOS Y NOMBRES  25352 non-null  object \n",
      " 1   ESCUELA PROFESIONAL  25352 non-null  object \n",
      " 2   PUNTAJE FINAL        25352 non-null  object \n",
      " 3   MERITO E.P           25352 non-null  float64\n",
      " 4   OBSERVACIÓN          25352 non-null  object \n",
      " 5   IdModalidad          25352 non-null  int64  \n",
      "dtypes: float64(1), int64(1), object(4)\n",
      "memory usage: 1.4+ MB\n"
     ]
    }
   ],
   "source": [
    "df_resultados.info()"
   ]
  },
  {
   "cell_type": "code",
   "execution_count": 169,
   "metadata": {},
   "outputs": [
    {
     "data": {
      "text/plain": [
       "CODIGO\n",
       "855168     774.75\n",
       "860373      299.0\n",
       "894207     441.75\n",
       "875677      530.5\n",
       "855333    584.625\n",
       "           ...   \n",
       "255062     652.75\n",
       "288818    542.375\n",
       "231862     436.75\n",
       "294871    542.375\n",
       "294995      457.0\n",
       "Name: PUNTAJE FINAL, Length: 25352, dtype: object"
      ]
     },
     "execution_count": 169,
     "metadata": {},
     "output_type": "execute_result"
    }
   ],
   "source": [
    "df_resultados['PUNTAJE FINAL']"
   ]
  },
  {
   "cell_type": "code",
   "execution_count": 170,
   "metadata": {},
   "outputs": [],
   "source": [
    "df_medicina_ingresantes=df_resultados[(df_resultados['OBSERVACIÓN']=='ALCANZO VACANTE')\n",
    "            & (df_resultados['ESCUELA PROFESIONAL']=='MEDICINA HUMANA')\n",
    "            & (df_resultados['IdModalidad']==0)]"
   ]
  },
  {
   "cell_type": "code",
   "execution_count": 171,
   "metadata": {},
   "outputs": [
    {
     "name": "stderr",
     "output_type": "stream",
     "text": [
      "/tmp/ipykernel_1156/891740249.py:1: UserWarning: \n",
      "\n",
      "`distplot` is a deprecated function and will be removed in seaborn v0.14.0.\n",
      "\n",
      "Please adapt your code to use either `displot` (a figure-level function with\n",
      "similar flexibility) or `histplot` (an axes-level function for histograms).\n",
      "\n",
      "For a guide to updating your code to use the new functions, please see\n",
      "https://gist.github.com/mwaskom/de44147ed2974457ad6372750bbe5751\n",
      "\n",
      "  sns.distplot(df_medicina_ingresantes['PUNTAJE FINAL'], kde=True, bins=10)\n"
     ]
    },
    {
     "data": {
      "text/plain": [
       "<Axes: xlabel='PUNTAJE FINAL', ylabel='Density'>"
      ]
     },
     "execution_count": 171,
     "metadata": {},
     "output_type": "execute_result"
    },
    {
     "data": {
      "image/png": "[encoded data removed]",
      "text/plain": [
       "<Figure size 640x480 with 1 Axes>"
      ]
     },
     "metadata": {},
     "output_type": "display_data"
    }
   ],
   "source": [
    "sns.distplot(df_medicina_ingresantes['PUNTAJE FINAL'], kde=True, bins=10)"
   ]
  },
  {
   "cell_type": "code",
   "execution_count": 172,
   "metadata": {},
   "outputs": [
    {
     "name": "stdout",
     "output_type": "stream",
     "text": [
      "<class 'pandas.core.frame.DataFrame'>\n",
      "Int64Index: 25352 entries, 855168 to 294995\n",
      "Data columns (total 6 columns):\n",
      " #   Column               Non-Null Count  Dtype  \n",
      "---  ------               --------------  -----  \n",
      " 0   APELLIDOS Y NOMBRES  25352 non-null  object \n",
      " 1   ESCUELA PROFESIONAL  25352 non-null  object \n",
      " 2   PUNTAJE FINAL        25352 non-null  object \n",
      " 3   MERITO E.P           25352 non-null  float64\n",
      " 4   OBSERVACIÓN          25352 non-null  object \n",
      " 5   IdModalidad          25352 non-null  int64  \n",
      "dtypes: float64(1), int64(1), object(4)\n",
      "memory usage: 1.4+ MB\n"
     ]
    }
   ],
   "source": [
    "df_resultados.info()"
   ]
  },
  {
   "cell_type": "code",
   "execution_count": 173,
   "metadata": {},
   "outputs": [
    {
     "ename": "TypeError",
     "evalue": "Could not convert 385.125986.0457.0269.375524.25666.0960.625808.25690.25941.75986.0862.875653.6251147.375596.125608.01060.625647.125334.125881.5609.125746.25840.6251020.625518.625789.375349.375986.0649.125680.375411.875663.75450.5953.0753.625491.375859.25860.375655.875473.625369.375711.375542.375859.25523.5521.25733.625942.875373.375991.875774.75415.625943.75334.75534.125415.625797.25606.875724.875599.5795.25393.875800.375320.625664.875713.6251019.75944.875795.875473.875795.875151.625519.5811.625606.875279.5558.3751198.375832.751019.5522.375943.75457.25745.125754.125649.375922.6251009.375620.375656.125168.0838.125995.0530.5312.25439.0943.75942.0777.5452.5599.5526.0943.75298.375727.125691.625669.375504.625726.0670.25553.625749.375801.5333.0690.25851.875597.25636.3751092.75465.751028.25507.375964.875535.875740.625672.75754.125721.5924.875520.625888.25648.0786.25478.375882.625547.375769.625605.75840.375359.5799.25584.625615.875803.75672.5615.251029.375461.25763.75784.25904.875605.75774.75882.625563.5790.5780.375600.625712.75687.375779.75364.875901.5608.0886.25731.875628.0670.25837.251176.125584.625756.125599.5775.875667.125964.875466.5335.25584.625333.875838.125692.75767.625817.0480.125753.625587.375901.5690.25753.625597.25383.5800.375584.625901.5442.375689.625615.875726.0520.375880.375690.251346.251149.625948.25853.875699.25919.5585.751008.25780.375460.375505.75901.5901.75701.5304.0779.5936.125385.375517.25626.875332.5638.375787.375690.25545.75211.625944.875549.125717.0762.6251090.75631.625520.625922.625290.25922.625604.8751122.875466.875759.5496.125648.0673.875916.125930.75986.25639.5880.375394.5331.125628.0537.0648.0588.5544.625722.8751113.875394.5869.3751007.125734.75907.375795.875510.25640.375669.125374.125386.0923.75836.375838.125774.75491.625800.375507.125605.75735.875526.01076.125886.0557.25753.625726.0748.25521.75944.875744.0591.875795.875641.75735.25732.5607.125610.25382.625543.75348.25632.5404.625659.25542.375513.0627.375880.375781.5999.5880.375542.375563.5691.875636.3751007.125690.25613.0880.375420.375506.0435.0833.875838.125774.75950.5684.0407.125669.125755.875732.5838.125626.875496.375593.625807.375722.875840.375399.0596.125362.8751114.375567.375500.125644.875903.75658.125525.75648.0916.1251048.5818.125628.0901.5698.625711.375250.25675.875340.375842.6251007.125955.25766.0525.125329.625342.375980.875550.5655.25436.751010.5584.0632.75275.5800.375896.125315.875199.25700.625449.125418.625586.875901.51049.375584.6251218.375631.0733.625626.875795.875726.01366.25327.125818.125671.375615.875399.5606.875391.625841.5951.625838.125671.375533.6251007.1251088.51040.875777.25691.375395.625953.0621.5377.875605.75859.251015.25412.5375.875772.75860.375669.125393.625295.0533.625640.375410.251044.0797.25712.5566.875466.0966.0943.751339.75533.875857.25539.25946.0608.251070.5753.875584.625922.625837.25592.75508.0735.875726.0453.0356.75539.5917.5880.375344.875711.375350.25457.875753.625922.875777.0595.25775.875644.0859.25457.875679.25843.75697.25104.01176.125705.125668.75819.25660.375821.5471.375818.375895.0620.375356.75690.25302.625902.0986.0838.125642.0457.875744.875564.625752.75922.875774.75769.625394.75866.0417.875561.751073.875667.375909.375690.25713.625405.125331.125457.875469.375564.875949.625814.1251051.875596.375438.625774.75743.75808.25440.625755.875860.375861.5635.0732.5335.8751121.75276.75922.625774.75817.0273.875583.75246.625572.5882.625521.25964.875370.75605.75415.25457.5566.875733.625749.625919.5489.375902.875273.875542.3751008.25711.375757.5880.375769.375502.625393.875650.75605.75910.5697.25585.75628.0503.5571.375459.01032.75458.375737.0452.5742.875408.5966.0617.5738.125437.875721.51248.5681.5640.625359.0437.0368.5868.5859.25986.0542.375832.75447.125838.125563.5838.125525.125692.5943.75618.375435.875737.0395.625833.875711.375383.75711.375869.375533.875889.375524.875559.5653.625342.375523.5269.625585.75654.75551.625436.75795.25513.0956.125690.25403.5935.25607.375513.875817.0802.875817.0489.125761.5479.0811.875803.75629.125457.875417.875376.375964.875524.875795.875674.75989.625964.875256.75740.375620.3751155.0648.0390.75681.751028.25763.75495.0802.875845.125530.25964.875701.75527.375745.125802.625564.875932.75968.25125.375943.75958.375821.75680.875501.25787.375824.0601.5895.01037.25584.625542.625777.25437.0902.625543.75799.25598.375473.625843.75774.75811.875773.875860.375962.0459.0471.625782.875734.75599.25592.75723.75275.25774.75753.625447.375650.25859.25669.375889.3751070.5890.5943.125911.875255.875563.5626.875587.125767.375605.75733.625731.625819.25683.75859.25753.625799.25366.25393.625661.5671.375715.0521.75733.875648.0608.0740.375368.25561.75881.5605.75849.375670.25692.5838.125584.625775.875623.75817.0310.0913.875413.625423.5511.875774.751037.25719.25539.5648.0311.125758.125646.25654.75626.875848.25267.375635.875334.125378.125922.625859.25976.125838.125654.75279.25589.375584.8751126.25597.25562.625678.375374.75926.0838.125563.5648.0623.75327.125314.75922.625541.75584.625310.0558.125593.625484.625579.5775.875497.0670.75669.375711.375352.25713.625605.75690.25273.0797.0350.25732.5643.75690.25589.625754.75738.125821.5501.25584.625601.5500.125409.375642.875671.375409.875915.0496.125826.25801.51087.375659.25851.625763.75882.625736.125413.875665.125275.0943.75795.875972.75901.5678.375822.625362.375986.0792.751095.0292.75358.125660.625974.125382.875737.0542.375860.375566.0901.5816.375715.875648.0759.25225.5626.0484.25793.875957.25647.125343.125600.375457.875436.125627.375198.125524.625903.75627.3751028.25775.875584.625471.375564.625592.75646.0944.875787.125464.625588.5564.625795.875445.125575.0912.75648.0606.51029.375589.125757.0648.0470.5564.625436.75537.0663.75511.375249.125506.25643.751206.5537.0636.125677.0544.625576.125670.25881.5433.875544.625652.5839.25564.0402.375505.75842.875780.375797.0648.0658.375759.5373.375795.875958.375859.25835.0377.875738.125867.125737.25777.0690.25798.125608.5820.375523.5922.625437.875552.75419.25247.375626.8751035.0442.625492.5669.625648.0740.625840.375774.75741.75428.75711.375690.25260.625394.5839.25651.375710.75521.25943.75485.125633.625719.25798.125891.875276.375468.0755.0566.25852.75630.251070.5838.125444.625796.125477.0549.625669.125648.0457.875879.75544.875690.25698.125399.25904.875548.25645.125261.5682.0488.0859.25646.5519.25680.625791.625589.125626.875529.125454.75498.375397.875484.625519.75774.75738.125310.0712.5691.375690.25795.875563.5580.625501.25737.0595.0712.5542.375475.875258.625639.25901.5446.25656.125376.125436.75686.25548.0342.375513.875862.875668.25892.75435.25805.1251099.5500.125543.5690.25654.125926.25529.625767.375671.625727.125943.75842.0615.01129.625430.75846.25521.25534.75967.125318.625795.875782.6251153.0777.0481.25844.875669.125864.875758.125479.5373.375721.5851.625877.25670.25499.5582.875331.625544.0584.6251056.125571.375690.25452.751012.75817.0833.875719.75261.5780.375418.375586.0349.125559.25544.875986.0887.375456.125690.251133.875669.125415.6251331.875670.25778.125926.25648.0475.0488.25653.01070.51049.375690.75617.0864.25584.625774.75685.3751028.25522.625415.625626.5480.375987.125852.75265.125348.0411.375817.0649.375629.125953.875641.75591.625797.0424.875677.251154.125675.875659.25588.0535.25588.25553.625524.625183.25681.75369.375880.375581.75733.625401.75788.5849.375795.875755.0415.625438.375476.125526.25993.875295.875526.875774.75732.5944.875635.875493.8751202.875779.25733.625615.0689.375662.625560.375510.75866.25458.125659.25738.375358.3751080.625911.875710.5464.0732.5622.875806.25754.75628.0493.625418.125695.0714.75526.875795.875841.75646.01033.875502.625653.625833.875662.875953.875521.25687.375590.25459.5753.625584.625439.0732.5889.625800.625594.75612.5735.0621.75322.875836.125817.01029.3751028.51022.875764.0700.375853.01008.5578.125792.75765.125631.375884.875636.375633.875975.251028.25830.51077.25439.5833.01135.0481.75558.375692.5520.625667.125656.375568.25669.125609.125502.625821.5496.125700.625774.75732.75675.25884.875554.75650.75468.0959.75712.75373.8751112.75986.0612.5817.0381.25413.875726.0451.625631.625766.0408.5437.875732.5902.625528.25946.0426.875715.875817.0562.875922.6251029.375569.1251112.75882.6251097.25989.375584.625716.1251091.625386.875440.625601.75911.875815.0470.5864.875500.125774.75734.75842.875714.75775.875893.8751112.75231.875838.125491.6251028.25839.25670.25648.0337.25250.5489.625606.0439.5563.5640.625510.5838.375506.01051.625670.25535.25913.875831.625740.625595.0677.5395.625569.375589.625516.125401.25820.625739.25574.751071.625282.375841.5817.0542.3751118.625195.0486.0826.0677.0607.3751074.125718.375734.75374.5655.0559.5906.0429.375297.0584.625285.125650.25647.375828.5626.875436.75704.25795.875567.125658.125500.625529.625230.51049.375501.5965.375186.625589.625708.25901.5472.75298.625606.875779.75734.75880.375542.375669.1251049.375288.25435.0711.375191.625911.625690.25711.625633.625669.125599.5585.75775.875815.0605.75859.25838.125469.125715.875691.375418.125389.375495.25838.1251197.25468.0509.125413.625244.0236.375727.375868.25859.25675.875880.875628.0443.5403.5757.251070.5818.375670.25483.75267.125732.5394.5600.375704.0859.25436.75880.375648.0630.25903.75620.375611.375605.75423.5669.125381.75742.625798.125628.25711.3751091.625613.625606.875656.125762.875778.125684.875838.125597.0859.25304.0565.75503.5382.375590.75753.0798.125537.5901.5546.875662.875715.0457.875882.625506.0903.75626.25508.25714.75849.375529.875802.875284.01072.75656.125817.0522.875415.625649.625500.125309.125882.625550.25691.625500.625891.625838.125459.0986.0626.875538.375559.5586.875817.0675.25774.75842.625952.75517.251050.5562.875774.75846.0524.625436.75669.125650.5818.125667.125459.0778.125655.875807.125733.625542.375733.625859.25697.25585.75471.625573.625774.75584.625432.5594.75575.0921.75957.25818.125901.5333.875530.75987.125775.875713.625411.875503.125442.375815.0808.25861.5519.5842.6251133.875500.125652.75690.5832.75495.0633.875373.375500.125635.875711.375443.5358.375757.25893.875871.62577.75548.5929.375944.875859.51042.875971.625427.125934.125399.25452.75424.625968.5848.5689.625692.5704.875866.0967.3751070.5690.75891.875768.5700.625646.25584.6251030.5605.75543.75722.625523.75753.625673.625889.3751113.875732.5573.625479.0436.75586.875418.375439.01031.625251.8751000.875204.375664.0439.75491.625844.25880.375849.625318.625868.5732.5412.5758.375648.0500.125958.625479.0759.5732.5727.375719.25546.875197.0452.5436.75479.0443.751101.75859.25686.25901.5455.0680.625378.125859.25838.125774.75790.5753.625508.0986.0710.75498.375208.25517.5669.125858.375922.625357.5901.5991.625548.25902.625419.01070.5570.5331.125784.875498.125755.875733.625922.625731.625817.0799.5584.625838.125421.5571.3751176.125555.0571.625526.0795.875310.01239.5578.125610.25424.625638.125535.875877.251028.5558.125801.5996.375827.375527.375552.75287.375659.25605.125537.25378.375690.25882.625691.375736.125587.3751197.25988.25923.75457.875652.5887.125513.625430.5666.0604.875440.125729.625521.25628.0566.01165.125779.25542.375656.125848.25668.25886.0415.625924.875456.125611.625659.5584.625338.375462.875810.5902.625523.5380.625628.01105.125676.125503.5681.75830.751050.5522.875915.0621.5701.751112.75572.75827.125524.875594.125692.51070.5797.0883.75882.875924.875895.0436.75210.25543.75626.875543.5466.875429.375787.125775.25470.5605.75626.875901.5500.125773.875542.875755.875511.875501.5327.125410.25600.375677.0693.625786.25648.0452.75584.625818.125461.251007.125708.25820.375521.75832.75655.0586.875848.5542.375775.875539.25735.875657.5486.875385.375753.625423.75439.0612.75669.625517.5392.75396.125774.75584.625732.75513.625412.5755.875531.625488.25553.0619.75543.75432.75793.875806.25394.5710.75638.375605.75580.625596.125527.125697.5626.875644.875753.625545.75415.625775.875522.375512.5688.5908.25431.625648.25394.5504.625480.625608.0712.5607.375522.375648.0690.25987.125817.0482.375758.125605.75432.5429.375700.375838.1251030.5652.5588.0732.5366.5595.0666.25980.875769.375500.125859.25671.375844.0746.25947.625680.875987.125758.625463.125648.0635.01112.75Art. 71º ReglamentoArt. 71º Reglamento982.875457.8751112.75938.375821.5817.0753.625699.75543.5521.25775.875681.75402.3751227.375521.25987.125750.5734.75359.5582.875677.25902.8751051.875800.625833.0438.125799.5691.625Art. 71º ReglamentoArt. 71º Reglamento649.375874.125756.125690.75869.625297.5375.875744.0695.25764.25669.625492.75Art. 71º ReglamentoArt. 71º Reglamento605.375735.0543.75558.375651.625353.875254.75361.75573.0417.0409.375269.125333.375252.25593.0717.0769.625880.375712.5530.51028.25480.125747.125670.25168.25437.875847.375 to numeric",
     "output_type": "error",
     "traceback": [
      "\u001b[0;31m---------------------------------------------------------------------------\u001b[0m",
      "\u001b[0;31mNotImplementedError\u001b[0m                       Traceback (most recent call last)",
      "File \u001b[0;32m~/cursos/proyectos-personales/Admision2023/envSimulacro/lib/python3.8/site-packages/pandas/core/groupby/groupby.py:1791\u001b[0m, in \u001b[0;36mGroupBy._cython_agg_general.<locals>.array_func\u001b[0;34m(values)\u001b[0m\n\u001b[1;32m   1790\u001b[0m \u001b[39mtry\u001b[39;00m:\n\u001b[0;32m-> 1791\u001b[0m     result \u001b[39m=\u001b[39m \u001b[39mself\u001b[39;49m\u001b[39m.\u001b[39;49mgrouper\u001b[39m.\u001b[39;49m_cython_operation(\n\u001b[1;32m   1792\u001b[0m         \u001b[39m\"\u001b[39;49m\u001b[39maggregate\u001b[39;49m\u001b[39m\"\u001b[39;49m,\n\u001b[1;32m   1793\u001b[0m         values,\n\u001b[1;32m   1794\u001b[0m         how,\n\u001b[1;32m   1795\u001b[0m         axis\u001b[39m=\u001b[39;49mdata\u001b[39m.\u001b[39;49mndim \u001b[39m-\u001b[39;49m \u001b[39m1\u001b[39;49m,\n\u001b[1;32m   1796\u001b[0m         min_count\u001b[39m=\u001b[39;49mmin_count,\n\u001b[1;32m   1797\u001b[0m         \u001b[39m*\u001b[39;49m\u001b[39m*\u001b[39;49mkwargs,\n\u001b[1;32m   1798\u001b[0m     )\n\u001b[1;32m   1799\u001b[0m \u001b[39mexcept\u001b[39;00m \u001b[39mNotImplementedError\u001b[39;00m:\n\u001b[1;32m   1800\u001b[0m     \u001b[39m# generally if we have numeric_only=False\u001b[39;00m\n\u001b[1;32m   1801\u001b[0m     \u001b[39m# and non-applicable functions\u001b[39;00m\n\u001b[1;32m   1802\u001b[0m     \u001b[39m# try to python agg\u001b[39;00m\n\u001b[1;32m   1803\u001b[0m     \u001b[39m# TODO: shouldn't min_count matter?\u001b[39;00m\n",
      "File \u001b[0;32m~/cursos/proyectos-personales/Admision2023/envSimulacro/lib/python3.8/site-packages/pandas/core/groupby/ops.py:1039\u001b[0m, in \u001b[0;36mBaseGrouper._cython_operation\u001b[0;34m(self, kind, values, how, axis, min_count, **kwargs)\u001b[0m\n\u001b[1;32m   1038\u001b[0m ngroups \u001b[39m=\u001b[39m \u001b[39mself\u001b[39m\u001b[39m.\u001b[39mngroups\n\u001b[0;32m-> 1039\u001b[0m \u001b[39mreturn\u001b[39;00m cy_op\u001b[39m.\u001b[39;49mcython_operation(\n\u001b[1;32m   1040\u001b[0m     values\u001b[39m=\u001b[39;49mvalues,\n\u001b[1;32m   1041\u001b[0m     axis\u001b[39m=\u001b[39;49maxis,\n\u001b[1;32m   1042\u001b[0m     min_count\u001b[39m=\u001b[39;49mmin_count,\n\u001b[1;32m   1043\u001b[0m     comp_ids\u001b[39m=\u001b[39;49mids,\n\u001b[1;32m   1044\u001b[0m     ngroups\u001b[39m=\u001b[39;49mngroups,\n\u001b[1;32m   1045\u001b[0m     \u001b[39m*\u001b[39;49m\u001b[39m*\u001b[39;49mkwargs,\n\u001b[1;32m   1046\u001b[0m )\n",
      "File \u001b[0;32m~/cursos/proyectos-personales/Admision2023/envSimulacro/lib/python3.8/site-packages/pandas/core/groupby/ops.py:708\u001b[0m, in \u001b[0;36mWrappedCythonOp.cython_operation\u001b[0;34m(self, values, axis, min_count, comp_ids, ngroups, **kwargs)\u001b[0m\n\u001b[1;32m    700\u001b[0m     \u001b[39mreturn\u001b[39;00m \u001b[39mself\u001b[39m\u001b[39m.\u001b[39m_ea_wrap_cython_operation(\n\u001b[1;32m    701\u001b[0m         values,\n\u001b[1;32m    702\u001b[0m         min_count\u001b[39m=\u001b[39mmin_count,\n\u001b[0;32m   (...)\u001b[0m\n\u001b[1;32m    705\u001b[0m         \u001b[39m*\u001b[39m\u001b[39m*\u001b[39mkwargs,\n\u001b[1;32m    706\u001b[0m     )\n\u001b[0;32m--> 708\u001b[0m \u001b[39mreturn\u001b[39;00m \u001b[39mself\u001b[39;49m\u001b[39m.\u001b[39;49m_cython_op_ndim_compat(\n\u001b[1;32m    709\u001b[0m     values,\n\u001b[1;32m    710\u001b[0m     min_count\u001b[39m=\u001b[39;49mmin_count,\n\u001b[1;32m    711\u001b[0m     ngroups\u001b[39m=\u001b[39;49mngroups,\n\u001b[1;32m    712\u001b[0m     comp_ids\u001b[39m=\u001b[39;49mcomp_ids,\n\u001b[1;32m    713\u001b[0m     mask\u001b[39m=\u001b[39;49m\u001b[39mNone\u001b[39;49;00m,\n\u001b[1;32m    714\u001b[0m     \u001b[39m*\u001b[39;49m\u001b[39m*\u001b[39;49mkwargs,\n\u001b[1;32m    715\u001b[0m )\n",
      "File \u001b[0;32m~/cursos/proyectos-personales/Admision2023/envSimulacro/lib/python3.8/site-packages/pandas/core/groupby/ops.py:512\u001b[0m, in \u001b[0;36mWrappedCythonOp._cython_op_ndim_compat\u001b[0;34m(self, values, min_count, ngroups, comp_ids, mask, result_mask, **kwargs)\u001b[0m\n\u001b[1;32m    511\u001b[0m     result_mask \u001b[39m=\u001b[39m result_mask[\u001b[39mNone\u001b[39;00m, :]\n\u001b[0;32m--> 512\u001b[0m res \u001b[39m=\u001b[39m \u001b[39mself\u001b[39;49m\u001b[39m.\u001b[39;49m_call_cython_op(\n\u001b[1;32m    513\u001b[0m     values2d,\n\u001b[1;32m    514\u001b[0m     min_count\u001b[39m=\u001b[39;49mmin_count,\n\u001b[1;32m    515\u001b[0m     ngroups\u001b[39m=\u001b[39;49mngroups,\n\u001b[1;32m    516\u001b[0m     comp_ids\u001b[39m=\u001b[39;49mcomp_ids,\n\u001b[1;32m    517\u001b[0m     mask\u001b[39m=\u001b[39;49mmask,\n\u001b[1;32m    518\u001b[0m     result_mask\u001b[39m=\u001b[39;49mresult_mask,\n\u001b[1;32m    519\u001b[0m     \u001b[39m*\u001b[39;49m\u001b[39m*\u001b[39;49mkwargs,\n\u001b[1;32m    520\u001b[0m )\n\u001b[1;32m    521\u001b[0m \u001b[39mif\u001b[39;00m res\u001b[39m.\u001b[39mshape[\u001b[39m0\u001b[39m] \u001b[39m==\u001b[39m \u001b[39m1\u001b[39m:\n",
      "File \u001b[0;32m~/cursos/proyectos-personales/Admision2023/envSimulacro/lib/python3.8/site-packages/pandas/core/groupby/ops.py:571\u001b[0m, in \u001b[0;36mWrappedCythonOp._call_cython_op\u001b[0;34m(self, values, min_count, ngroups, comp_ids, mask, result_mask, **kwargs)\u001b[0m\n\u001b[1;32m    570\u001b[0m out_shape \u001b[39m=\u001b[39m \u001b[39mself\u001b[39m\u001b[39m.\u001b[39m_get_output_shape(ngroups, values)\n\u001b[0;32m--> 571\u001b[0m func \u001b[39m=\u001b[39m \u001b[39mself\u001b[39;49m\u001b[39m.\u001b[39;49m_get_cython_function(\u001b[39mself\u001b[39;49m\u001b[39m.\u001b[39;49mkind, \u001b[39mself\u001b[39;49m\u001b[39m.\u001b[39;49mhow, values\u001b[39m.\u001b[39;49mdtype, is_numeric)\n\u001b[1;32m    572\u001b[0m values \u001b[39m=\u001b[39m \u001b[39mself\u001b[39m\u001b[39m.\u001b[39m_get_cython_vals(values)\n",
      "File \u001b[0;32m~/cursos/proyectos-personales/Admision2023/envSimulacro/lib/python3.8/site-packages/pandas/core/groupby/ops.py:192\u001b[0m, in \u001b[0;36mWrappedCythonOp._get_cython_function\u001b[0;34m(cls, kind, how, dtype, is_numeric)\u001b[0m\n\u001b[1;32m    190\u001b[0m \u001b[39melif\u001b[39;00m \u001b[39m\"\u001b[39m\u001b[39mobject\u001b[39m\u001b[39m\"\u001b[39m \u001b[39mnot\u001b[39;00m \u001b[39min\u001b[39;00m f\u001b[39m.\u001b[39m__signatures__:\n\u001b[1;32m    191\u001b[0m     \u001b[39m# raise NotImplementedError here rather than TypeError later\u001b[39;00m\n\u001b[0;32m--> 192\u001b[0m     \u001b[39mraise\u001b[39;00m \u001b[39mNotImplementedError\u001b[39;00m(\n\u001b[1;32m    193\u001b[0m         \u001b[39mf\u001b[39m\u001b[39m\"\u001b[39m\u001b[39mfunction is not implemented for this dtype: \u001b[39m\u001b[39m\"\u001b[39m\n\u001b[1;32m    194\u001b[0m         \u001b[39mf\u001b[39m\u001b[39m\"\u001b[39m\u001b[39m[how->\u001b[39m\u001b[39m{\u001b[39;00mhow\u001b[39m}\u001b[39;00m\u001b[39m,dtype->\u001b[39m\u001b[39m{\u001b[39;00mdtype_str\u001b[39m}\u001b[39;00m\u001b[39m]\u001b[39m\u001b[39m\"\u001b[39m\n\u001b[1;32m    195\u001b[0m     )\n\u001b[1;32m    196\u001b[0m \u001b[39mreturn\u001b[39;00m f\n",
      "\u001b[0;31mNotImplementedError\u001b[0m: function is not implemented for this dtype: [how->mean,dtype->object]",
      "\nDuring handling of the above exception, another exception occurred:\n",
      "\u001b[0;31mValueError\u001b[0m                                Traceback (most recent call last)",
      "File \u001b[0;32m~/cursos/proyectos-personales/Admision2023/envSimulacro/lib/python3.8/site-packages/pandas/core/nanops.py:1630\u001b[0m, in \u001b[0;36m_ensure_numeric\u001b[0;34m(x)\u001b[0m\n\u001b[1;32m   1629\u001b[0m \u001b[39mtry\u001b[39;00m:\n\u001b[0;32m-> 1630\u001b[0m     x \u001b[39m=\u001b[39m \u001b[39mfloat\u001b[39;49m(x)\n\u001b[1;32m   1631\u001b[0m \u001b[39mexcept\u001b[39;00m (\u001b[39mTypeError\u001b[39;00m, \u001b[39mValueError\u001b[39;00m):\n\u001b[1;32m   1632\u001b[0m     \u001b[39m# e.g. \"1+1j\" or \"foo\"\u001b[39;00m\n",
      "\u001b[0;31mValueError\u001b[0m: could not convert string to float: '385.125986.0457.0269.375524.25666.0960.625808.25690.25941.75986.0862.875653.6251147.375596.125608.01060.625647.125334.125881.5609.125746.25840.6251020.625518.625789.375349.375986.0649.125680.375411.875663.75450.5953.0753.625491.375859.25860.375655.875473.625369.375711.375542.375859.25523.5521.25733.625942.875373.375991.875774.75415.625943.75334.75534.125415.625797.25606.875724.875599.5795.25393.875800.375320.625664.875713.6251019.75944.875795.875473.875795.875151.625519.5811.625606.875279.5558.3751198.375832.751019.5522.375943.75457.25745.125754.125649.375922.6251009.375620.375656.125168.0838.125995.0530.5312.25439.0943.75942.0777.5452.5599.5526.0943.75298.375727.125691.625669.375504.625726.0670.25553.625749.375801.5333.0690.25851.875597.25636.3751092.75465.751028.25507.375964.875535.875740.625672.75754.125721.5924.875520.625888.25648.0786.25478.375882.625547.375769.625605.75840.375359.5799.25584.625615.875803.75672.5615.251029.375461.25763.75784.25904.875605.75774.75882.625563.5790.5780.375600.625712.75687.375779.75364.875901.5608.0886.25731.875628.0670.25837.251176.125584.625756.125599.5775.875667.125964.875466.5335.25584.625333.875838.125692.75767.625817.0480.125753.625587.375901.5690.25753.625597.25383.5800.375584.625901.5442.375689.625615.875726.0520.375880.375690.251346.251149.625948.25853.875699.25919.5585.751008.25780.375460.375505.75901.5901.75701.5304.0779.5936.125385.375517.25626.875332.5638.375787.375690.25545.75211.625944.875549.125717.0762.6251090.75631.625520.625922.625290.25922.625604.8751122.875466.875759.5496.125648.0673.875916.125930.75986.25639.5880.375394.5331.125628.0537.0648.0588.5544.625722.8751113.875394.5869.3751007.125734.75907.375795.875510.25640.375669.125374.125386.0923.75836.375838.125774.75491.625800.375507.125605.75735.875526.01076.125886.0557.25753.625726.0748.25521.75944.875744.0591.875795.875641.75735.25732.5607.125610.25382.625543.75348.25632.5404.625659.25542.375513.0627.375880.375781.5999.5880.375542.375563.5691.875636.3751007.125690.25613.0880.375420.375506.0435.0833.875838.125774.75950.5684.0407.125669.125755.875732.5838.125626.875496.375593.625807.375722.875840.375399.0596.125362.8751114.375567.375500.125644.875903.75658.125525.75648.0916.1251048.5818.125628.0901.5698.625711.375250.25675.875340.375842.6251007.125955.25766.0525.125329.625342.375980.875550.5655.25436.751010.5584.0632.75275.5800.375896.125315.875199.25700.625449.125418.625586.875901.51049.375584.6251218.375631.0733.625626.875795.875726.01366.25327.125818.125671.375615.875399.5606.875391.625841.5951.625838.125671.375533.6251007.1251088.51040.875777.25691.375395.625953.0621.5377.875605.75859.251015.25412.5375.875772.75860.375669.125393.625295.0533.625640.375410.251044.0797.25712.5566.875466.0966.0943.751339.75533.875857.25539.25946.0608.251070.5753.875584.625922.625837.25592.75508.0735.875726.0453.0356.75539.5917.5880.375344.875711.375350.25457.875753.625922.875777.0595.25775.875644.0859.25457.875679.25843.75697.25104.01176.125705.125668.75819.25660.375821.5471.375818.375895.0620.375356.75690.25302.625902.0986.0838.125642.0457.875744.875564.625752.75922.875774.75769.625394.75866.0417.875561.751073.875667.375909.375690.25713.625405.125331.125457.875469.375564.875949.625814.1251051.875596.375438.625774.75743.75808.25440.625755.875860.375861.5635.0732.5335.8751121.75276.75922.625774.75817.0273.875583.75246.625572.5882.625521.25964.875370.75605.75415.25457.5566.875733.625749.625919.5489.375902.875273.875542.3751008.25711.375757.5880.375769.375502.625393.875650.75605.75910.5697.25585.75628.0503.5571.375459.01032.75458.375737.0452.5742.875408.5966.0617.5738.125437.875721.51248.5681.5640.625359.0437.0368.5868.5859.25986.0542.375832.75447.125838.125563.5838.125525.125692.5943.75618.375435.875737.0395.625833.875711.375383.75711.375869.375533.875889.375524.875559.5653.625342.375523.5269.625585.75654.75551.625436.75795.25513.0956.125690.25403.5935.25607.375513.875817.0802.875817.0489.125761.5479.0811.875803.75629.125457.875417.875376.375964.875524.875795.875674.75989.625964.875256.75740.375620.3751155.0648.0390.75681.751028.25763.75495.0802.875845.125530.25964.875701.75527.375745.125802.625564.875932.75968.25125.375943.75958.375821.75680.875501.25787.375824.0601.5895.01037.25584.625542.625777.25437.0902.625543.75799.25598.375473.625843.75774.75811.875773.875860.375962.0459.0471.625782.875734.75599.25592.75723.75275.25774.75753.625447.375650.25859.25669.375889.3751070.5890.5943.125911.875255.875563.5626.875587.125767.375605.75733.625731.625819.25683.75859.25753.625799.25366.25393.625661.5671.375715.0521.75733.875648.0608.0740.375368.25561.75881.5605.75849.375670.25692.5838.125584.625775.875623.75817.0310.0913.875413.625423.5511.875774.751037.25719.25539.5648.0311.125758.125646.25654.75626.875848.25267.375635.875334.125378.125922.625859.25976.125838.125654.75279.25589.375584.8751126.25597.25562.625678.375374.75926.0838.125563.5648.0623.75327.125314.75922.625541.75584.625310.0558.125593.625484.625579.5775.875497.0670.75669.375711.375352.25713.625605.75690.25273.0797.0350.25732.5643.75690.25589.625754.75738.125821.5501.25584.625601.5500.125409.375642.875671.375409.875915.0496.125826.25801.51087.375659.25851.625763.75882.625736.125413.875665.125275.0943.75795.875972.75901.5678.375822.625362.375986.0792.751095.0292.75358.125660.625974.125382.875737.0542.375860.375566.0901.5816.375715.875648.0759.25225.5626.0484.25793.875957.25647.125343.125600.375457.875436.125627.375198.125524.625903.75627.3751028.25775.875584.625471.375564.625592.75646.0944.875787.125464.625588.5564.625795.875445.125575.0912.75648.0606.51029.375589.125757.0648.0470.5564.625436.75537.0663.75511.375249.125506.25643.751206.5537.0636.125677.0544.625576.125670.25881.5433.875544.625652.5839.25564.0402.375505.75842.875780.375797.0648.0658.375759.5373.375795.875958.375859.25835.0377.875738.125867.125737.25777.0690.25798.125608.5820.375523.5922.625437.875552.75419.25247.375626.8751035.0442.625492.5669.625648.0740.625840.375774.75741.75428.75711.375690.25260.625394.5839.25651.375710.75521.25943.75485.125633.625719.25798.125891.875276.375468.0755.0566.25852.75630.251070.5838.125444.625796.125477.0549.625669.125648.0457.875879.75544.875690.25698.125399.25904.875548.25645.125261.5682.0488.0859.25646.5519.25680.625791.625589.125626.875529.125454.75498.375397.875484.625519.75774.75738.125310.0712.5691.375690.25795.875563.5580.625501.25737.0595.0712.5542.375475.875258.625639.25901.5446.25656.125376.125436.75686.25548.0342.375513.875862.875668.25892.75435.25805.1251099.5500.125543.5690.25654.125926.25529.625767.375671.625727.125943.75842.0615.01129.625430.75846.25521.25534.75967.125318.625795.875782.6251153.0777.0481.25844.875669.125864.875758.125479.5373.375721.5851.625877.25670.25499.5582.875331.625544.0584.6251056.125571.375690.25452.751012.75817.0833.875719.75261.5780.375418.375586.0349.125559.25544.875986.0887.375456.125690.251133.875669.125415.6251331.875670.25778.125926.25648.0475.0488.25653.01070.51049.375690.75617.0864.25584.625774.75685.3751028.25522.625415.625626.5480.375987.125852.75265.125348.0411.375817.0649.375629.125953.875641.75591.625797.0424.875677.251154.125675.875659.25588.0535.25588.25553.625524.625183.25681.75369.375880.375581.75733.625401.75788.5849.375795.875755.0415.625438.375476.125526.25993.875295.875526.875774.75732.5944.875635.875493.8751202.875779.25733.625615.0689.375662.625560.375510.75866.25458.125659.25738.375358.3751080.625911.875710.5464.0732.5622.875806.25754.75628.0493.625418.125695.0714.75526.875795.875841.75646.01033.875502.625653.625833.875662.875953.875521.25687.375590.25459.5753.625584.625439.0732.5889.625800.625594.75612.5735.0621.75322.875836.125817.01029.3751028.51022.875764.0700.375853.01008.5578.125792.75765.125631.375884.875636.375633.875975.251028.25830.51077.25439.5833.01135.0481.75558.375692.5520.625667.125656.375568.25669.125609.125502.625821.5496.125700.625774.75732.75675.25884.875554.75650.75468.0959.75712.75373.8751112.75986.0612.5817.0381.25413.875726.0451.625631.625766.0408.5437.875732.5902.625528.25946.0426.875715.875817.0562.875922.6251029.375569.1251112.75882.6251097.25989.375584.625716.1251091.625386.875440.625601.75911.875815.0470.5864.875500.125774.75734.75842.875714.75775.875893.8751112.75231.875838.125491.6251028.25839.25670.25648.0337.25250.5489.625606.0439.5563.5640.625510.5838.375506.01051.625670.25535.25913.875831.625740.625595.0677.5395.625569.375589.625516.125401.25820.625739.25574.751071.625282.375841.5817.0542.3751118.625195.0486.0826.0677.0607.3751074.125718.375734.75374.5655.0559.5906.0429.375297.0584.625285.125650.25647.375828.5626.875436.75704.25795.875567.125658.125500.625529.625230.51049.375501.5965.375186.625589.625708.25901.5472.75298.625606.875779.75734.75880.375542.375669.1251049.375288.25435.0711.375191.625911.625690.25711.625633.625669.125599.5585.75775.875815.0605.75859.25838.125469.125715.875691.375418.125389.375495.25838.1251197.25468.0509.125413.625244.0236.375727.375868.25859.25675.875880.875628.0443.5403.5757.251070.5818.375670.25483.75267.125732.5394.5600.375704.0859.25436.75880.375648.0630.25903.75620.375611.375605.75423.5669.125381.75742.625798.125628.25711.3751091.625613.625606.875656.125762.875778.125684.875838.125597.0859.25304.0565.75503.5382.375590.75753.0798.125537.5901.5546.875662.875715.0457.875882.625506.0903.75626.25508.25714.75849.375529.875802.875284.01072.75656.125817.0522.875415.625649.625500.125309.125882.625550.25691.625500.625891.625838.125459.0986.0626.875538.375559.5586.875817.0675.25774.75842.625952.75517.251050.5562.875774.75846.0524.625436.75669.125650.5818.125667.125459.0778.125655.875807.125733.625542.375733.625859.25697.25585.75471.625573.625774.75584.625432.5594.75575.0921.75957.25818.125901.5333.875530.75987.125775.875713.625411.875503.125442.375815.0808.25861.5519.5842.6251133.875500.125652.75690.5832.75495.0633.875373.375500.125635.875711.375443.5358.375757.25893.875871.62577.75548.5929.375944.875859.51042.875971.625427.125934.125399.25452.75424.625968.5848.5689.625692.5704.875866.0967.3751070.5690.75891.875768.5700.625646.25584.6251030.5605.75543.75722.625523.75753.625673.625889.3751113.875732.5573.625479.0436.75586.875418.375439.01031.625251.8751000.875204.375664.0439.75491.625844.25880.375849.625318.625868.5732.5412.5758.375648.0500.125958.625479.0759.5732.5727.375719.25546.875197.0452.5436.75479.0443.751101.75859.25686.25901.5455.0680.625378.125859.25838.125774.75790.5753.625508.0986.0710.75498.375208.25517.5669.125858.375922.625357.5901.5991.625548.25902.625419.01070.5570.5331.125784.875498.125755.875733.625922.625731.625817.0799.5584.625838.125421.5571.3751176.125555.0571.625526.0795.875310.01239.5578.125610.25424.625638.125535.875877.251028.5558.125801.5996.375827.375527.375552.75287.375659.25605.125537.25378.375690.25882.625691.375736.125587.3751197.25988.25923.75457.875652.5887.125513.625430.5666.0604.875440.125729.625521.25628.0566.01165.125779.25542.375656.125848.25668.25886.0415.625924.875456.125611.625659.5584.625338.375462.875810.5902.625523.5380.625628.01105.125676.125503.5681.75830.751050.5522.875915.0621.5701.751112.75572.75827.125524.875594.125692.51070.5797.0883.75882.875924.875895.0436.75210.25543.75626.875543.5466.875429.375787.125775.25470.5605.75626.875901.5500.125773.875542.875755.875511.875501.5327.125410.25600.375677.0693.625786.25648.0452.75584.625818.125461.251007.125708.25820.375521.75832.75655.0586.875848.5542.375775.875539.25735.875657.5486.875385.375753.625423.75439.0612.75669.625517.5392.75396.125774.75584.625732.75513.625412.5755.875531.625488.25553.0619.75543.75432.75793.875806.25394.5710.75638.375605.75580.625596.125527.125697.5626.875644.875753.625545.75415.625775.875522.375512.5688.5908.25431.625648.25394.5504.625480.625608.0712.5607.375522.375648.0690.25987.125817.0482.375758.125605.75432.5429.375700.375838.1251030.5652.5588.0732.5366.5595.0666.25980.875769.375500.125859.25671.375844.0746.25947.625680.875987.125758.625463.125648.0635.01112.75Art. 71º ReglamentoArt. 71º Reglamento982.875457.8751112.75938.375821.5817.0753.625699.75543.5521.25775.875681.75402.3751227.375521.25987.125750.5734.75359.5582.875677.25902.8751051.875800.625833.0438.125799.5691.625Art. 71º ReglamentoArt. 71º Reglamento649.375874.125756.125690.75869.625297.5375.875744.0695.25764.25669.625492.75Art. 71º ReglamentoArt. 71º Reglamento605.375735.0543.75558.375651.625353.875254.75361.75573.0417.0409.375269.125333.375252.25593.0717.0769.625880.375712.5530.51028.25480.125747.125670.25168.25437.875847.375'",
      "\nDuring handling of the above exception, another exception occurred:\n",
      "\u001b[0;31mValueError\u001b[0m                                Traceback (most recent call last)",
      "File \u001b[0;32m~/cursos/proyectos-personales/Admision2023/envSimulacro/lib/python3.8/site-packages/pandas/core/nanops.py:1634\u001b[0m, in \u001b[0;36m_ensure_numeric\u001b[0;34m(x)\u001b[0m\n\u001b[1;32m   1633\u001b[0m \u001b[39mtry\u001b[39;00m:\n\u001b[0;32m-> 1634\u001b[0m     x \u001b[39m=\u001b[39m \u001b[39mcomplex\u001b[39;49m(x)\n\u001b[1;32m   1635\u001b[0m \u001b[39mexcept\u001b[39;00m \u001b[39mValueError\u001b[39;00m \u001b[39mas\u001b[39;00m err:\n\u001b[1;32m   1636\u001b[0m     \u001b[39m# e.g. \"foo\"\u001b[39;00m\n",
      "\u001b[0;31mValueError\u001b[0m: complex() arg is a malformed string",
      "\nThe above exception was the direct cause of the following exception:\n",
      "\u001b[0;31mTypeError\u001b[0m                                 Traceback (most recent call last)",
      "Cell \u001b[0;32mIn[173], line 2\u001b[0m\n\u001b[1;32m      1\u001b[0m \u001b[39m#hallando las 5carreras con mayor puntaje de ingreso\u001b[39;00m\n\u001b[0;32m----> 2\u001b[0m df_resultados\u001b[39m.\u001b[39;49mgroupby([\u001b[39m'\u001b[39;49m\u001b[39mESCUELA PROFESIONAL\u001b[39;49m\u001b[39m'\u001b[39;49m])[\u001b[39m'\u001b[39;49m\u001b[39mPUNTAJE FINAL\u001b[39;49m\u001b[39m'\u001b[39;49m]\u001b[39m.\u001b[39;49mmean()\n",
      "File \u001b[0;32m~/cursos/proyectos-personales/Admision2023/envSimulacro/lib/python3.8/site-packages/pandas/core/groupby/groupby.py:2183\u001b[0m, in \u001b[0;36mGroupBy.mean\u001b[0;34m(self, numeric_only, engine, engine_kwargs)\u001b[0m\n\u001b[1;32m   2181\u001b[0m     \u001b[39mreturn\u001b[39;00m \u001b[39mself\u001b[39m\u001b[39m.\u001b[39m_numba_agg_general(sliding_mean, engine_kwargs)\n\u001b[1;32m   2182\u001b[0m \u001b[39melse\u001b[39;00m:\n\u001b[0;32m-> 2183\u001b[0m     result \u001b[39m=\u001b[39m \u001b[39mself\u001b[39;49m\u001b[39m.\u001b[39;49m_cython_agg_general(\n\u001b[1;32m   2184\u001b[0m         \u001b[39m\"\u001b[39;49m\u001b[39mmean\u001b[39;49m\u001b[39m\"\u001b[39;49m,\n\u001b[1;32m   2185\u001b[0m         alt\u001b[39m=\u001b[39;49m\u001b[39mlambda\u001b[39;49;00m x: Series(x)\u001b[39m.\u001b[39;49mmean(numeric_only\u001b[39m=\u001b[39;49mnumeric_only_bool),\n\u001b[1;32m   2186\u001b[0m         numeric_only\u001b[39m=\u001b[39;49mnumeric_only,\n\u001b[1;32m   2187\u001b[0m     )\n\u001b[1;32m   2188\u001b[0m     \u001b[39mreturn\u001b[39;00m result\u001b[39m.\u001b[39m__finalize__(\u001b[39mself\u001b[39m\u001b[39m.\u001b[39mobj, method\u001b[39m=\u001b[39m\u001b[39m\"\u001b[39m\u001b[39mgroupby\u001b[39m\u001b[39m\"\u001b[39m)\n",
      "File \u001b[0;32m~/cursos/proyectos-personales/Admision2023/envSimulacro/lib/python3.8/site-packages/pandas/core/groupby/groupby.py:1810\u001b[0m, in \u001b[0;36mGroupBy._cython_agg_general\u001b[0;34m(self, how, alt, numeric_only, min_count, ignore_failures, **kwargs)\u001b[0m\n\u001b[1;32m   1806\u001b[0m     \u001b[39mreturn\u001b[39;00m result\n\u001b[1;32m   1808\u001b[0m \u001b[39m# TypeError -> we may have an exception in trying to aggregate\u001b[39;00m\n\u001b[1;32m   1809\u001b[0m \u001b[39m#  continue and exclude the block\u001b[39;00m\n\u001b[0;32m-> 1810\u001b[0m new_mgr \u001b[39m=\u001b[39m data\u001b[39m.\u001b[39;49mgrouped_reduce(array_func, ignore_failures\u001b[39m=\u001b[39;49mignore_failures)\n\u001b[1;32m   1812\u001b[0m \u001b[39mif\u001b[39;00m \u001b[39mnot\u001b[39;00m is_ser \u001b[39mand\u001b[39;00m \u001b[39mlen\u001b[39m(new_mgr) \u001b[39m<\u001b[39m orig_len:\n\u001b[1;32m   1813\u001b[0m     warn_dropping_nuisance_columns_deprecated(\u001b[39mtype\u001b[39m(\u001b[39mself\u001b[39m), how, numeric_only)\n",
      "File \u001b[0;32m~/cursos/proyectos-personales/Admision2023/envSimulacro/lib/python3.8/site-packages/pandas/core/internals/base.py:199\u001b[0m, in \u001b[0;36mSingleDataManager.grouped_reduce\u001b[0;34m(self, func, ignore_failures)\u001b[0m\n\u001b[1;32m    193\u001b[0m \u001b[39m\u001b[39m\u001b[39m\"\"\"\u001b[39;00m\n\u001b[1;32m    194\u001b[0m \u001b[39mignore_failures : bool, default False\u001b[39;00m\n\u001b[1;32m    195\u001b[0m \u001b[39m    Not used; for compatibility with ArrayManager/BlockManager.\u001b[39;00m\n\u001b[1;32m    196\u001b[0m \u001b[39m\"\"\"\u001b[39;00m\n\u001b[1;32m    198\u001b[0m arr \u001b[39m=\u001b[39m \u001b[39mself\u001b[39m\u001b[39m.\u001b[39marray\n\u001b[0;32m--> 199\u001b[0m res \u001b[39m=\u001b[39m func(arr)\n\u001b[1;32m    200\u001b[0m index \u001b[39m=\u001b[39m default_index(\u001b[39mlen\u001b[39m(res))\n\u001b[1;32m    202\u001b[0m mgr \u001b[39m=\u001b[39m \u001b[39mtype\u001b[39m(\u001b[39mself\u001b[39m)\u001b[39m.\u001b[39mfrom_array(res, index)\n",
      "File \u001b[0;32m~/cursos/proyectos-personales/Admision2023/envSimulacro/lib/python3.8/site-packages/pandas/core/groupby/groupby.py:1804\u001b[0m, in \u001b[0;36mGroupBy._cython_agg_general.<locals>.array_func\u001b[0;34m(values)\u001b[0m\n\u001b[1;32m   1791\u001b[0m     result \u001b[39m=\u001b[39m \u001b[39mself\u001b[39m\u001b[39m.\u001b[39mgrouper\u001b[39m.\u001b[39m_cython_operation(\n\u001b[1;32m   1792\u001b[0m         \u001b[39m\"\u001b[39m\u001b[39maggregate\u001b[39m\u001b[39m\"\u001b[39m,\n\u001b[1;32m   1793\u001b[0m         values,\n\u001b[0;32m   (...)\u001b[0m\n\u001b[1;32m   1797\u001b[0m         \u001b[39m*\u001b[39m\u001b[39m*\u001b[39mkwargs,\n\u001b[1;32m   1798\u001b[0m     )\n\u001b[1;32m   1799\u001b[0m \u001b[39mexcept\u001b[39;00m \u001b[39mNotImplementedError\u001b[39;00m:\n\u001b[1;32m   1800\u001b[0m     \u001b[39m# generally if we have numeric_only=False\u001b[39;00m\n\u001b[1;32m   1801\u001b[0m     \u001b[39m# and non-applicable functions\u001b[39;00m\n\u001b[1;32m   1802\u001b[0m     \u001b[39m# try to python agg\u001b[39;00m\n\u001b[1;32m   1803\u001b[0m     \u001b[39m# TODO: shouldn't min_count matter?\u001b[39;00m\n\u001b[0;32m-> 1804\u001b[0m     result \u001b[39m=\u001b[39m \u001b[39mself\u001b[39;49m\u001b[39m.\u001b[39;49m_agg_py_fallback(values, ndim\u001b[39m=\u001b[39;49mdata\u001b[39m.\u001b[39;49mndim, alt\u001b[39m=\u001b[39;49malt)\n\u001b[1;32m   1806\u001b[0m \u001b[39mreturn\u001b[39;00m result\n",
      "File \u001b[0;32m~/cursos/proyectos-personales/Admision2023/envSimulacro/lib/python3.8/site-packages/pandas/core/groupby/groupby.py:1745\u001b[0m, in \u001b[0;36mGroupBy._agg_py_fallback\u001b[0;34m(self, values, ndim, alt)\u001b[0m\n\u001b[1;32m   1740\u001b[0m     ser \u001b[39m=\u001b[39m df\u001b[39m.\u001b[39miloc[:, \u001b[39m0\u001b[39m]\n\u001b[1;32m   1742\u001b[0m \u001b[39m# We do not get here with UDFs, so we know that our dtype\u001b[39;00m\n\u001b[1;32m   1743\u001b[0m \u001b[39m#  should always be preserved by the implemented aggregations\u001b[39;00m\n\u001b[1;32m   1744\u001b[0m \u001b[39m# TODO: Is this exactly right; see WrappedCythonOp get_result_dtype?\u001b[39;00m\n\u001b[0;32m-> 1745\u001b[0m res_values \u001b[39m=\u001b[39m \u001b[39mself\u001b[39;49m\u001b[39m.\u001b[39;49mgrouper\u001b[39m.\u001b[39;49magg_series(ser, alt, preserve_dtype\u001b[39m=\u001b[39;49m\u001b[39mTrue\u001b[39;49;00m)\n\u001b[1;32m   1747\u001b[0m \u001b[39mif\u001b[39;00m \u001b[39misinstance\u001b[39m(values, Categorical):\n\u001b[1;32m   1748\u001b[0m     \u001b[39m# Because we only get here with known dtype-preserving\u001b[39;00m\n\u001b[1;32m   1749\u001b[0m     \u001b[39m#  reductions, we cast back to Categorical.\u001b[39;00m\n\u001b[1;32m   1750\u001b[0m     \u001b[39m# TODO: if we ever get \"rank\" working, exclude it here.\u001b[39;00m\n\u001b[1;32m   1751\u001b[0m     res_values \u001b[39m=\u001b[39m \u001b[39mtype\u001b[39m(values)\u001b[39m.\u001b[39m_from_sequence(res_values, dtype\u001b[39m=\u001b[39mvalues\u001b[39m.\u001b[39mdtype)\n",
      "File \u001b[0;32m~/cursos/proyectos-personales/Admision2023/envSimulacro/lib/python3.8/site-packages/pandas/core/groupby/ops.py:1081\u001b[0m, in \u001b[0;36mBaseGrouper.agg_series\u001b[0;34m(self, obj, func, preserve_dtype)\u001b[0m\n\u001b[1;32m   1078\u001b[0m     preserve_dtype \u001b[39m=\u001b[39m \u001b[39mTrue\u001b[39;00m\n\u001b[1;32m   1080\u001b[0m \u001b[39melse\u001b[39;00m:\n\u001b[0;32m-> 1081\u001b[0m     result \u001b[39m=\u001b[39m \u001b[39mself\u001b[39;49m\u001b[39m.\u001b[39;49m_aggregate_series_pure_python(obj, func)\n\u001b[1;32m   1083\u001b[0m npvalues \u001b[39m=\u001b[39m lib\u001b[39m.\u001b[39mmaybe_convert_objects(result, try_float\u001b[39m=\u001b[39m\u001b[39mFalse\u001b[39;00m)\n\u001b[1;32m   1084\u001b[0m \u001b[39mif\u001b[39;00m preserve_dtype:\n",
      "File \u001b[0;32m~/cursos/proyectos-personales/Admision2023/envSimulacro/lib/python3.8/site-packages/pandas/core/groupby/ops.py:1104\u001b[0m, in \u001b[0;36mBaseGrouper._aggregate_series_pure_python\u001b[0;34m(self, obj, func)\u001b[0m\n\u001b[1;32m   1101\u001b[0m splitter \u001b[39m=\u001b[39m get_splitter(obj, ids, ngroups, axis\u001b[39m=\u001b[39m\u001b[39m0\u001b[39m)\n\u001b[1;32m   1103\u001b[0m \u001b[39mfor\u001b[39;00m i, group \u001b[39min\u001b[39;00m \u001b[39menumerate\u001b[39m(splitter):\n\u001b[0;32m-> 1104\u001b[0m     res \u001b[39m=\u001b[39m func(group)\n\u001b[1;32m   1105\u001b[0m     res \u001b[39m=\u001b[39m libreduction\u001b[39m.\u001b[39mextract_result(res)\n\u001b[1;32m   1107\u001b[0m     \u001b[39mif\u001b[39;00m \u001b[39mnot\u001b[39;00m initialized:\n\u001b[1;32m   1108\u001b[0m         \u001b[39m# We only do this validation on the first iteration\u001b[39;00m\n",
      "File \u001b[0;32m~/cursos/proyectos-personales/Admision2023/envSimulacro/lib/python3.8/site-packages/pandas/core/groupby/groupby.py:2185\u001b[0m, in \u001b[0;36mGroupBy.mean.<locals>.<lambda>\u001b[0;34m(x)\u001b[0m\n\u001b[1;32m   2181\u001b[0m     \u001b[39mreturn\u001b[39;00m \u001b[39mself\u001b[39m\u001b[39m.\u001b[39m_numba_agg_general(sliding_mean, engine_kwargs)\n\u001b[1;32m   2182\u001b[0m \u001b[39melse\u001b[39;00m:\n\u001b[1;32m   2183\u001b[0m     result \u001b[39m=\u001b[39m \u001b[39mself\u001b[39m\u001b[39m.\u001b[39m_cython_agg_general(\n\u001b[1;32m   2184\u001b[0m         \u001b[39m\"\u001b[39m\u001b[39mmean\u001b[39m\u001b[39m\"\u001b[39m,\n\u001b[0;32m-> 2185\u001b[0m         alt\u001b[39m=\u001b[39m\u001b[39mlambda\u001b[39;00m x: Series(x)\u001b[39m.\u001b[39;49mmean(numeric_only\u001b[39m=\u001b[39;49mnumeric_only_bool),\n\u001b[1;32m   2186\u001b[0m         numeric_only\u001b[39m=\u001b[39mnumeric_only,\n\u001b[1;32m   2187\u001b[0m     )\n\u001b[1;32m   2188\u001b[0m     \u001b[39mreturn\u001b[39;00m result\u001b[39m.\u001b[39m__finalize__(\u001b[39mself\u001b[39m\u001b[39m.\u001b[39mobj, method\u001b[39m=\u001b[39m\u001b[39m\"\u001b[39m\u001b[39mgroupby\u001b[39m\u001b[39m\"\u001b[39m)\n",
      "File \u001b[0;32m~/cursos/proyectos-personales/Admision2023/envSimulacro/lib/python3.8/site-packages/pandas/core/generic.py:11847\u001b[0m, in \u001b[0;36mNDFrame._add_numeric_operations.<locals>.mean\u001b[0;34m(self, axis, skipna, level, numeric_only, **kwargs)\u001b[0m\n\u001b[1;32m  11829\u001b[0m \u001b[39m@doc\u001b[39m(\n\u001b[1;32m  11830\u001b[0m     _num_doc,\n\u001b[1;32m  11831\u001b[0m     desc\u001b[39m=\u001b[39m\u001b[39m\"\u001b[39m\u001b[39mReturn the mean of the values over the requested axis.\u001b[39m\u001b[39m\"\u001b[39m,\n\u001b[0;32m   (...)\u001b[0m\n\u001b[1;32m  11845\u001b[0m     \u001b[39m*\u001b[39m\u001b[39m*\u001b[39mkwargs,\n\u001b[1;32m  11846\u001b[0m ):\n\u001b[0;32m> 11847\u001b[0m     \u001b[39mreturn\u001b[39;00m NDFrame\u001b[39m.\u001b[39;49mmean(\u001b[39mself\u001b[39;49m, axis, skipna, level, numeric_only, \u001b[39m*\u001b[39;49m\u001b[39m*\u001b[39;49mkwargs)\n",
      "File \u001b[0;32m~/cursos/proyectos-personales/Admision2023/envSimulacro/lib/python3.8/site-packages/pandas/core/generic.py:11401\u001b[0m, in \u001b[0;36mNDFrame.mean\u001b[0;34m(self, axis, skipna, level, numeric_only, **kwargs)\u001b[0m\n\u001b[1;32m  11393\u001b[0m \u001b[39mdef\u001b[39;00m \u001b[39mmean\u001b[39m(\n\u001b[1;32m  11394\u001b[0m     \u001b[39mself\u001b[39m,\n\u001b[1;32m  11395\u001b[0m     axis: Axis \u001b[39m|\u001b[39m \u001b[39mNone\u001b[39;00m \u001b[39m|\u001b[39m lib\u001b[39m.\u001b[39mNoDefault \u001b[39m=\u001b[39m lib\u001b[39m.\u001b[39mno_default,\n\u001b[0;32m   (...)\u001b[0m\n\u001b[1;32m  11399\u001b[0m     \u001b[39m*\u001b[39m\u001b[39m*\u001b[39mkwargs,\n\u001b[1;32m  11400\u001b[0m ) \u001b[39m-\u001b[39m\u001b[39m>\u001b[39m Series \u001b[39m|\u001b[39m \u001b[39mfloat\u001b[39m:\n\u001b[0;32m> 11401\u001b[0m     \u001b[39mreturn\u001b[39;00m \u001b[39mself\u001b[39;49m\u001b[39m.\u001b[39;49m_stat_function(\n\u001b[1;32m  11402\u001b[0m         \u001b[39m\"\u001b[39;49m\u001b[39mmean\u001b[39;49m\u001b[39m\"\u001b[39;49m, nanops\u001b[39m.\u001b[39;49mnanmean, axis, skipna, level, numeric_only, \u001b[39m*\u001b[39;49m\u001b[39m*\u001b[39;49mkwargs\n\u001b[1;32m  11403\u001b[0m     )\n",
      "File \u001b[0;32m~/cursos/proyectos-personales/Admision2023/envSimulacro/lib/python3.8/site-packages/pandas/core/generic.py:11353\u001b[0m, in \u001b[0;36mNDFrame._stat_function\u001b[0;34m(self, name, func, axis, skipna, level, numeric_only, **kwargs)\u001b[0m\n\u001b[1;32m  11343\u001b[0m     warnings\u001b[39m.\u001b[39mwarn(\n\u001b[1;32m  11344\u001b[0m         \u001b[39m\"\u001b[39m\u001b[39mUsing the level keyword in DataFrame and Series aggregations is \u001b[39m\u001b[39m\"\u001b[39m\n\u001b[1;32m  11345\u001b[0m         \u001b[39m\"\u001b[39m\u001b[39mdeprecated and will be removed in a future version. Use groupby \u001b[39m\u001b[39m\"\u001b[39m\n\u001b[0;32m   (...)\u001b[0m\n\u001b[1;32m  11348\u001b[0m         stacklevel\u001b[39m=\u001b[39mfind_stack_level(),\n\u001b[1;32m  11349\u001b[0m     )\n\u001b[1;32m  11350\u001b[0m     \u001b[39mreturn\u001b[39;00m \u001b[39mself\u001b[39m\u001b[39m.\u001b[39m_agg_by_level(\n\u001b[1;32m  11351\u001b[0m         name, axis\u001b[39m=\u001b[39maxis, level\u001b[39m=\u001b[39mlevel, skipna\u001b[39m=\u001b[39mskipna, numeric_only\u001b[39m=\u001b[39mnumeric_only\n\u001b[1;32m  11352\u001b[0m     )\n\u001b[0;32m> 11353\u001b[0m \u001b[39mreturn\u001b[39;00m \u001b[39mself\u001b[39;49m\u001b[39m.\u001b[39;49m_reduce(\n\u001b[1;32m  11354\u001b[0m     func, name\u001b[39m=\u001b[39;49mname, axis\u001b[39m=\u001b[39;49maxis, skipna\u001b[39m=\u001b[39;49mskipna, numeric_only\u001b[39m=\u001b[39;49mnumeric_only\n\u001b[1;32m  11355\u001b[0m )\n",
      "File \u001b[0;32m~/cursos/proyectos-personales/Admision2023/envSimulacro/lib/python3.8/site-packages/pandas/core/series.py:4816\u001b[0m, in \u001b[0;36mSeries._reduce\u001b[0;34m(self, op, name, axis, skipna, numeric_only, filter_type, **kwds)\u001b[0m\n\u001b[1;32m   4812\u001b[0m     \u001b[39mraise\u001b[39;00m \u001b[39mNotImplementedError\u001b[39;00m(\n\u001b[1;32m   4813\u001b[0m         \u001b[39mf\u001b[39m\u001b[39m\"\u001b[39m\u001b[39mSeries.\u001b[39m\u001b[39m{\u001b[39;00mname\u001b[39m}\u001b[39;00m\u001b[39m does not implement \u001b[39m\u001b[39m{\u001b[39;00mkwd_name\u001b[39m}\u001b[39;00m\u001b[39m.\u001b[39m\u001b[39m\"\u001b[39m\n\u001b[1;32m   4814\u001b[0m     )\n\u001b[1;32m   4815\u001b[0m \u001b[39mwith\u001b[39;00m np\u001b[39m.\u001b[39merrstate(\u001b[39mall\u001b[39m\u001b[39m=\u001b[39m\u001b[39m\"\u001b[39m\u001b[39mignore\u001b[39m\u001b[39m\"\u001b[39m):\n\u001b[0;32m-> 4816\u001b[0m     \u001b[39mreturn\u001b[39;00m op(delegate, skipna\u001b[39m=\u001b[39;49mskipna, \u001b[39m*\u001b[39;49m\u001b[39m*\u001b[39;49mkwds)\n",
      "File \u001b[0;32m~/cursos/proyectos-personales/Admision2023/envSimulacro/lib/python3.8/site-packages/pandas/core/nanops.py:93\u001b[0m, in \u001b[0;36mdisallow.__call__.<locals>._f\u001b[0;34m(*args, **kwargs)\u001b[0m\n\u001b[1;32m     91\u001b[0m \u001b[39mtry\u001b[39;00m:\n\u001b[1;32m     92\u001b[0m     \u001b[39mwith\u001b[39;00m np\u001b[39m.\u001b[39merrstate(invalid\u001b[39m=\u001b[39m\u001b[39m\"\u001b[39m\u001b[39mignore\u001b[39m\u001b[39m\"\u001b[39m):\n\u001b[0;32m---> 93\u001b[0m         \u001b[39mreturn\u001b[39;00m f(\u001b[39m*\u001b[39;49margs, \u001b[39m*\u001b[39;49m\u001b[39m*\u001b[39;49mkwargs)\n\u001b[1;32m     94\u001b[0m \u001b[39mexcept\u001b[39;00m \u001b[39mValueError\u001b[39;00m \u001b[39mas\u001b[39;00m e:\n\u001b[1;32m     95\u001b[0m     \u001b[39m# we want to transform an object array\u001b[39;00m\n\u001b[1;32m     96\u001b[0m     \u001b[39m# ValueError message to the more typical TypeError\u001b[39;00m\n\u001b[1;32m     97\u001b[0m     \u001b[39m# e.g. this is normally a disallowed function on\u001b[39;00m\n\u001b[1;32m     98\u001b[0m     \u001b[39m# object arrays that contain strings\u001b[39;00m\n\u001b[1;32m     99\u001b[0m     \u001b[39mif\u001b[39;00m is_object_dtype(args[\u001b[39m0\u001b[39m]):\n",
      "File \u001b[0;32m~/cursos/proyectos-personales/Admision2023/envSimulacro/lib/python3.8/site-packages/pandas/core/nanops.py:155\u001b[0m, in \u001b[0;36mbottleneck_switch.__call__.<locals>.f\u001b[0;34m(values, axis, skipna, **kwds)\u001b[0m\n\u001b[1;32m    153\u001b[0m         result \u001b[39m=\u001b[39m alt(values, axis\u001b[39m=\u001b[39maxis, skipna\u001b[39m=\u001b[39mskipna, \u001b[39m*\u001b[39m\u001b[39m*\u001b[39mkwds)\n\u001b[1;32m    154\u001b[0m \u001b[39melse\u001b[39;00m:\n\u001b[0;32m--> 155\u001b[0m     result \u001b[39m=\u001b[39m alt(values, axis\u001b[39m=\u001b[39;49maxis, skipna\u001b[39m=\u001b[39;49mskipna, \u001b[39m*\u001b[39;49m\u001b[39m*\u001b[39;49mkwds)\n\u001b[1;32m    157\u001b[0m \u001b[39mreturn\u001b[39;00m result\n",
      "File \u001b[0;32m~/cursos/proyectos-personales/Admision2023/envSimulacro/lib/python3.8/site-packages/pandas/core/nanops.py:418\u001b[0m, in \u001b[0;36m_datetimelike_compat.<locals>.new_func\u001b[0;34m(values, axis, skipna, mask, **kwargs)\u001b[0m\n\u001b[1;32m    415\u001b[0m \u001b[39mif\u001b[39;00m datetimelike \u001b[39mand\u001b[39;00m mask \u001b[39mis\u001b[39;00m \u001b[39mNone\u001b[39;00m:\n\u001b[1;32m    416\u001b[0m     mask \u001b[39m=\u001b[39m isna(values)\n\u001b[0;32m--> 418\u001b[0m result \u001b[39m=\u001b[39m func(values, axis\u001b[39m=\u001b[39;49maxis, skipna\u001b[39m=\u001b[39;49mskipna, mask\u001b[39m=\u001b[39;49mmask, \u001b[39m*\u001b[39;49m\u001b[39m*\u001b[39;49mkwargs)\n\u001b[1;32m    420\u001b[0m \u001b[39mif\u001b[39;00m datetimelike:\n\u001b[1;32m    421\u001b[0m     result \u001b[39m=\u001b[39m _wrap_results(result, orig_values\u001b[39m.\u001b[39mdtype, fill_value\u001b[39m=\u001b[39miNaT)\n",
      "File \u001b[0;32m~/cursos/proyectos-personales/Admision2023/envSimulacro/lib/python3.8/site-packages/pandas/core/nanops.py:706\u001b[0m, in \u001b[0;36mnanmean\u001b[0;34m(values, axis, skipna, mask)\u001b[0m\n\u001b[1;32m    703\u001b[0m     dtype_count \u001b[39m=\u001b[39m dtype\n\u001b[1;32m    705\u001b[0m count \u001b[39m=\u001b[39m _get_counts(values\u001b[39m.\u001b[39mshape, mask, axis, dtype\u001b[39m=\u001b[39mdtype_count)\n\u001b[0;32m--> 706\u001b[0m the_sum \u001b[39m=\u001b[39m _ensure_numeric(values\u001b[39m.\u001b[39;49msum(axis, dtype\u001b[39m=\u001b[39;49mdtype_sum))\n\u001b[1;32m    708\u001b[0m \u001b[39mif\u001b[39;00m axis \u001b[39mis\u001b[39;00m \u001b[39mnot\u001b[39;00m \u001b[39mNone\u001b[39;00m \u001b[39mand\u001b[39;00m \u001b[39mgetattr\u001b[39m(the_sum, \u001b[39m\"\u001b[39m\u001b[39mndim\u001b[39m\u001b[39m\"\u001b[39m, \u001b[39mFalse\u001b[39;00m):\n\u001b[1;32m    709\u001b[0m     count \u001b[39m=\u001b[39m cast(np\u001b[39m.\u001b[39mndarray, count)\n",
      "File \u001b[0;32m~/cursos/proyectos-personales/Admision2023/envSimulacro/lib/python3.8/site-packages/pandas/core/nanops.py:1637\u001b[0m, in \u001b[0;36m_ensure_numeric\u001b[0;34m(x)\u001b[0m\n\u001b[1;32m   1634\u001b[0m             x \u001b[39m=\u001b[39m \u001b[39mcomplex\u001b[39m(x)\n\u001b[1;32m   1635\u001b[0m         \u001b[39mexcept\u001b[39;00m \u001b[39mValueError\u001b[39;00m \u001b[39mas\u001b[39;00m err:\n\u001b[1;32m   1636\u001b[0m             \u001b[39m# e.g. \"foo\"\u001b[39;00m\n\u001b[0;32m-> 1637\u001b[0m             \u001b[39mraise\u001b[39;00m \u001b[39mTypeError\u001b[39;00m(\u001b[39mf\u001b[39m\u001b[39m\"\u001b[39m\u001b[39mCould not convert \u001b[39m\u001b[39m{\u001b[39;00mx\u001b[39m}\u001b[39;00m\u001b[39m to numeric\u001b[39m\u001b[39m\"\u001b[39m) \u001b[39mfrom\u001b[39;00m \u001b[39merr\u001b[39;00m\n\u001b[1;32m   1638\u001b[0m \u001b[39mreturn\u001b[39;00m x\n",
      "\u001b[0;31mTypeError\u001b[0m: Could not convert 385.125986.0457.0269.375524.25666.0960.625808.25690.25941.75986.0862.875653.6251147.375596.125608.01060.625647.125334.125881.5609.125746.25840.6251020.625518.625789.375349.375986.0649.125680.375411.875663.75450.5953.0753.625491.375859.25860.375655.875473.625369.375711.375542.375859.25523.5521.25733.625942.875373.375991.875774.75415.625943.75334.75534.125415.625797.25606.875724.875599.5795.25393.875800.375320.625664.875713.6251019.75944.875795.875473.875795.875151.625519.5811.625606.875279.5558.3751198.375832.751019.5522.375943.75457.25745.125754.125649.375922.6251009.375620.375656.125168.0838.125995.0530.5312.25439.0943.75942.0777.5452.5599.5526.0943.75298.375727.125691.625669.375504.625726.0670.25553.625749.375801.5333.0690.25851.875597.25636.3751092.75465.751028.25507.375964.875535.875740.625672.75754.125721.5924.875520.625888.25648.0786.25478.375882.625547.375769.625605.75840.375359.5799.25584.625615.875803.75672.5615.251029.375461.25763.75784.25904.875605.75774.75882.625563.5790.5780.375600.625712.75687.375779.75364.875901.5608.0886.25731.875628.0670.25837.251176.125584.625756.125599.5775.875667.125964.875466.5335.25584.625333.875838.125692.75767.625817.0480.125753.625587.375901.5690.25753.625597.25383.5800.375584.625901.5442.375689.625615.875726.0520.375880.375690.251346.251149.625948.25853.875699.25919.5585.751008.25780.375460.375505.75901.5901.75701.5304.0779.5936.125385.375517.25626.875332.5638.375787.375690.25545.75211.625944.875549.125717.0762.6251090.75631.625520.625922.625290.25922.625604.8751122.875466.875759.5496.125648.0673.875916.125930.75986.25639.5880.375394.5331.125628.0537.0648.0588.5544.625722.8751113.875394.5869.3751007.125734.75907.375795.875510.25640.375669.125374.125386.0923.75836.375838.125774.75491.625800.375507.125605.75735.875526.01076.125886.0557.25753.625726.0748.25521.75944.875744.0591.875795.875641.75735.25732.5607.125610.25382.625543.75348.25632.5404.625659.25542.375513.0627.375880.375781.5999.5880.375542.375563.5691.875636.3751007.125690.25613.0880.375420.375506.0435.0833.875838.125774.75950.5684.0407.125669.125755.875732.5838.125626.875496.375593.625807.375722.875840.375399.0596.125362.8751114.375567.375500.125644.875903.75658.125525.75648.0916.1251048.5818.125628.0901.5698.625711.375250.25675.875340.375842.6251007.125955.25766.0525.125329.625342.375980.875550.5655.25436.751010.5584.0632.75275.5800.375896.125315.875199.25700.625449.125418.625586.875901.51049.375584.6251218.375631.0733.625626.875795.875726.01366.25327.125818.125671.375615.875399.5606.875391.625841.5951.625838.125671.375533.6251007.1251088.51040.875777.25691.375395.625953.0621.5377.875605.75859.251015.25412.5375.875772.75860.375669.125393.625295.0533.625640.375410.251044.0797.25712.5566.875466.0966.0943.751339.75533.875857.25539.25946.0608.251070.5753.875584.625922.625837.25592.75508.0735.875726.0453.0356.75539.5917.5880.375344.875711.375350.25457.875753.625922.875777.0595.25775.875644.0859.25457.875679.25843.75697.25104.01176.125705.125668.75819.25660.375821.5471.375818.375895.0620.375356.75690.25302.625902.0986.0838.125642.0457.875744.875564.625752.75922.875774.75769.625394.75866.0417.875561.751073.875667.375909.375690.25713.625405.125331.125457.875469.375564.875949.625814.1251051.875596.375438.625774.75743.75808.25440.625755.875860.375861.5635.0732.5335.8751121.75276.75922.625774.75817.0273.875583.75246.625572.5882.625521.25964.875370.75605.75415.25457.5566.875733.625749.625919.5489.375902.875273.875542.3751008.25711.375757.5880.375769.375502.625393.875650.75605.75910.5697.25585.75628.0503.5571.375459.01032.75458.375737.0452.5742.875408.5966.0617.5738.125437.875721.51248.5681.5640.625359.0437.0368.5868.5859.25986.0542.375832.75447.125838.125563.5838.125525.125692.5943.75618.375435.875737.0395.625833.875711.375383.75711.375869.375533.875889.375524.875559.5653.625342.375523.5269.625585.75654.75551.625436.75795.25513.0956.125690.25403.5935.25607.375513.875817.0802.875817.0489.125761.5479.0811.875803.75629.125457.875417.875376.375964.875524.875795.875674.75989.625964.875256.75740.375620.3751155.0648.0390.75681.751028.25763.75495.0802.875845.125530.25964.875701.75527.375745.125802.625564.875932.75968.25125.375943.75958.375821.75680.875501.25787.375824.0601.5895.01037.25584.625542.625777.25437.0902.625543.75799.25598.375473.625843.75774.75811.875773.875860.375962.0459.0471.625782.875734.75599.25592.75723.75275.25774.75753.625447.375650.25859.25669.375889.3751070.5890.5943.125911.875255.875563.5626.875587.125767.375605.75733.625731.625819.25683.75859.25753.625799.25366.25393.625661.5671.375715.0521.75733.875648.0608.0740.375368.25561.75881.5605.75849.375670.25692.5838.125584.625775.875623.75817.0310.0913.875413.625423.5511.875774.751037.25719.25539.5648.0311.125758.125646.25654.75626.875848.25267.375635.875334.125378.125922.625859.25976.125838.125654.75279.25589.375584.8751126.25597.25562.625678.375374.75926.0838.125563.5648.0623.75327.125314.75922.625541.75584.625310.0558.125593.625484.625579.5775.875497.0670.75669.375711.375352.25713.625605.75690.25273.0797.0350.25732.5643.75690.25589.625754.75738.125821.5501.25584.625601.5500.125409.375642.875671.375409.875915.0496.125826.25801.51087.375659.25851.625763.75882.625736.125413.875665.125275.0943.75795.875972.75901.5678.375822.625362.375986.0792.751095.0292.75358.125660.625974.125382.875737.0542.375860.375566.0901.5816.375715.875648.0759.25225.5626.0484.25793.875957.25647.125343.125600.375457.875436.125627.375198.125524.625903.75627.3751028.25775.875584.625471.375564.625592.75646.0944.875787.125464.625588.5564.625795.875445.125575.0912.75648.0606.51029.375589.125757.0648.0470.5564.625436.75537.0663.75511.375249.125506.25643.751206.5537.0636.125677.0544.625576.125670.25881.5433.875544.625652.5839.25564.0402.375505.75842.875780.375797.0648.0658.375759.5373.375795.875958.375859.25835.0377.875738.125867.125737.25777.0690.25798.125608.5820.375523.5922.625437.875552.75419.25247.375626.8751035.0442.625492.5669.625648.0740.625840.375774.75741.75428.75711.375690.25260.625394.5839.25651.375710.75521.25943.75485.125633.625719.25798.125891.875276.375468.0755.0566.25852.75630.251070.5838.125444.625796.125477.0549.625669.125648.0457.875879.75544.875690.25698.125399.25904.875548.25645.125261.5682.0488.0859.25646.5519.25680.625791.625589.125626.875529.125454.75498.375397.875484.625519.75774.75738.125310.0712.5691.375690.25795.875563.5580.625501.25737.0595.0712.5542.375475.875258.625639.25901.5446.25656.125376.125436.75686.25548.0342.375513.875862.875668.25892.75435.25805.1251099.5500.125543.5690.25654.125926.25529.625767.375671.625727.125943.75842.0615.01129.625430.75846.25521.25534.75967.125318.625795.875782.6251153.0777.0481.25844.875669.125864.875758.125479.5373.375721.5851.625877.25670.25499.5582.875331.625544.0584.6251056.125571.375690.25452.751012.75817.0833.875719.75261.5780.375418.375586.0349.125559.25544.875986.0887.375456.125690.251133.875669.125415.6251331.875670.25778.125926.25648.0475.0488.25653.01070.51049.375690.75617.0864.25584.625774.75685.3751028.25522.625415.625626.5480.375987.125852.75265.125348.0411.375817.0649.375629.125953.875641.75591.625797.0424.875677.251154.125675.875659.25588.0535.25588.25553.625524.625183.25681.75369.375880.375581.75733.625401.75788.5849.375795.875755.0415.625438.375476.125526.25993.875295.875526.875774.75732.5944.875635.875493.8751202.875779.25733.625615.0689.375662.625560.375510.75866.25458.125659.25738.375358.3751080.625911.875710.5464.0732.5622.875806.25754.75628.0493.625418.125695.0714.75526.875795.875841.75646.01033.875502.625653.625833.875662.875953.875521.25687.375590.25459.5753.625584.625439.0732.5889.625800.625594.75612.5735.0621.75322.875836.125817.01029.3751028.51022.875764.0700.375853.01008.5578.125792.75765.125631.375884.875636.375633.875975.251028.25830.51077.25439.5833.01135.0481.75558.375692.5520.625667.125656.375568.25669.125609.125502.625821.5496.125700.625774.75732.75675.25884.875554.75650.75468.0959.75712.75373.8751112.75986.0612.5817.0381.25413.875726.0451.625631.625766.0408.5437.875732.5902.625528.25946.0426.875715.875817.0562.875922.6251029.375569.1251112.75882.6251097.25989.375584.625716.1251091.625386.875440.625601.75911.875815.0470.5864.875500.125774.75734.75842.875714.75775.875893.8751112.75231.875838.125491.6251028.25839.25670.25648.0337.25250.5489.625606.0439.5563.5640.625510.5838.375506.01051.625670.25535.25913.875831.625740.625595.0677.5395.625569.375589.625516.125401.25820.625739.25574.751071.625282.375841.5817.0542.3751118.625195.0486.0826.0677.0607.3751074.125718.375734.75374.5655.0559.5906.0429.375297.0584.625285.125650.25647.375828.5626.875436.75704.25795.875567.125658.125500.625529.625230.51049.375501.5965.375186.625589.625708.25901.5472.75298.625606.875779.75734.75880.375542.375669.1251049.375288.25435.0711.375191.625911.625690.25711.625633.625669.125599.5585.75775.875815.0605.75859.25838.125469.125715.875691.375418.125389.375495.25838.1251197.25468.0509.125413.625244.0236.375727.375868.25859.25675.875880.875628.0443.5403.5757.251070.5818.375670.25483.75267.125732.5394.5600.375704.0859.25436.75880.375648.0630.25903.75620.375611.375605.75423.5669.125381.75742.625798.125628.25711.3751091.625613.625606.875656.125762.875778.125684.875838.125597.0859.25304.0565.75503.5382.375590.75753.0798.125537.5901.5546.875662.875715.0457.875882.625506.0903.75626.25508.25714.75849.375529.875802.875284.01072.75656.125817.0522.875415.625649.625500.125309.125882.625550.25691.625500.625891.625838.125459.0986.0626.875538.375559.5586.875817.0675.25774.75842.625952.75517.251050.5562.875774.75846.0524.625436.75669.125650.5818.125667.125459.0778.125655.875807.125733.625542.375733.625859.25697.25585.75471.625573.625774.75584.625432.5594.75575.0921.75957.25818.125901.5333.875530.75987.125775.875713.625411.875503.125442.375815.0808.25861.5519.5842.6251133.875500.125652.75690.5832.75495.0633.875373.375500.125635.875711.375443.5358.375757.25893.875871.62577.75548.5929.375944.875859.51042.875971.625427.125934.125399.25452.75424.625968.5848.5689.625692.5704.875866.0967.3751070.5690.75891.875768.5700.625646.25584.6251030.5605.75543.75722.625523.75753.625673.625889.3751113.875732.5573.625479.0436.75586.875418.375439.01031.625251.8751000.875204.375664.0439.75491.625844.25880.375849.625318.625868.5732.5412.5758.375648.0500.125958.625479.0759.5732.5727.375719.25546.875197.0452.5436.75479.0443.751101.75859.25686.25901.5455.0680.625378.125859.25838.125774.75790.5753.625508.0986.0710.75498.375208.25517.5669.125858.375922.625357.5901.5991.625548.25902.625419.01070.5570.5331.125784.875498.125755.875733.625922.625731.625817.0799.5584.625838.125421.5571.3751176.125555.0571.625526.0795.875310.01239.5578.125610.25424.625638.125535.875877.251028.5558.125801.5996.375827.375527.375552.75287.375659.25605.125537.25378.375690.25882.625691.375736.125587.3751197.25988.25923.75457.875652.5887.125513.625430.5666.0604.875440.125729.625521.25628.0566.01165.125779.25542.375656.125848.25668.25886.0415.625924.875456.125611.625659.5584.625338.375462.875810.5902.625523.5380.625628.01105.125676.125503.5681.75830.751050.5522.875915.0621.5701.751112.75572.75827.125524.875594.125692.51070.5797.0883.75882.875924.875895.0436.75210.25543.75626.875543.5466.875429.375787.125775.25470.5605.75626.875901.5500.125773.875542.875755.875511.875501.5327.125410.25600.375677.0693.625786.25648.0452.75584.625818.125461.251007.125708.25820.375521.75832.75655.0586.875848.5542.375775.875539.25735.875657.5486.875385.375753.625423.75439.0612.75669.625517.5392.75396.125774.75584.625732.75513.625412.5755.875531.625488.25553.0619.75543.75432.75793.875806.25394.5710.75638.375605.75580.625596.125527.125697.5626.875644.875753.625545.75415.625775.875522.375512.5688.5908.25431.625648.25394.5504.625480.625608.0712.5607.375522.375648.0690.25987.125817.0482.375758.125605.75432.5429.375700.375838.1251030.5652.5588.0732.5366.5595.0666.25980.875769.375500.125859.25671.375844.0746.25947.625680.875987.125758.625463.125648.0635.01112.75Art. 71º ReglamentoArt. 71º Reglamento982.875457.8751112.75938.375821.5817.0753.625699.75543.5521.25775.875681.75402.3751227.375521.25987.125750.5734.75359.5582.875677.25902.8751051.875800.625833.0438.125799.5691.625Art. 71º ReglamentoArt. 71º Reglamento649.375874.125756.125690.75869.625297.5375.875744.0695.25764.25669.625492.75Art. 71º ReglamentoArt. 71º Reglamento605.375735.0543.75558.375651.625353.875254.75361.75573.0417.0409.375269.125333.375252.25593.0717.0769.625880.375712.5530.51028.25480.125747.125670.25168.25437.875847.375 to numeric"
     ]
    }
   ],
   "source": [
    "#hallando las 5carreras con mayor puntaje de ingreso\n",
    "df_resultados.groupby(['ESCUELA PROFESIONAL'])['PUNTAJE FINAL'].mean()"
   ]
  }
 ],
 "metadata": {
  "kernelspec": {
   "display_name": "envSimulacro",
   "language": "python",
   "name": "python3"
  },
  "language_info": {
   "codemirror_mode": {
    "name": "ipython",
    "version": 3
   },
   "file_extension": ".py",
   "mimetype": "text/x-python",
   "name": "python",
   "nbconvert_exporter": "python",
   "pygments_lexer": "ipython3",
   "version": "3.8.10"
  },
  "orig_nbformat": 4
 },
 "nbformat": 4,
 "nbformat_minor": 2
}
