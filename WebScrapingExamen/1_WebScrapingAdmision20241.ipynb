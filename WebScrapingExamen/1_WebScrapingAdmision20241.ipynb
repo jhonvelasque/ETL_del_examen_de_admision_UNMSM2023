{
 "cells": [
  {
   "cell_type": "code",
   "execution_count": 89,
   "metadata": {},
   "outputs": [],
   "source": [
    "import pandas as pd\n",
    "import requests\n",
    "import lxml.html as html\n",
    "import os\n",
    "import datetime\n",
    "import requests\n",
    "from bs4 import BeautifulSoup"
   ]
  },
  {
   "cell_type": "code",
   "execution_count": 90,
   "metadata": {},
   "outputs": [],
   "source": [
    "#Teniendo la url para hacer el web scraping\n",
    "urlModalidad='https://admision.unmsm.edu.pe/Website20241/'\n",
    "\n",
    "def get_modalidad_url(urlModalidad):\n",
    "    response = requests.get(urlModalidad, headers={'Content-Type': 'text/html; charset=utf-8'})\n",
    "    if response.status_code == 200:\n",
    "    #traemos el contenido de la web \n",
    "        soup = BeautifulSoup(response.content.decode('utf-8'), 'html.parser')\n",
    "        # estamos creando la url de todas las areas\n",
    "        urls = [urlModalidad+a['href'][::] for a in soup.select('tbody tr td.text-center a')]\n",
    "    return urls\n"
   ]
  },
  {
   "cell_type": "code",
   "execution_count": 91,
   "metadata": {},
   "outputs": [],
   "source": [
    "urlAdmision=get_modalidad_url(urlModalidad)"
   ]
  },
  {
   "cell_type": "code",
   "execution_count": 92,
   "metadata": {},
   "outputs": [],
   "source": [
    "def tabla_modalidad(urlModalidad):\n",
    "    response = requests.get(urlModalidad, headers={'Content-Type': 'text/html; charset=utf-8'})\n",
    "    if response.status_code == 200:\n",
    "    #traemos el contenido de la web \n",
    "        soup = BeautifulSoup(response.content.decode('utf-8'), 'html.parser')\n",
    "        # estamos creando la url de todas las areas\n",
    "        contents = [a.text.lower() for a in soup.select('tbody tr td.text-center a')]\n",
    "        tabla =pd.DataFrame(contents,columns=['Modalidad']).reset_index()\n",
    "        tabla.rename(columns={'index': 'id_modalidad'},inplace=True)\n",
    "    return tabla\n"
   ]
  },
  {
   "cell_type": "code",
   "execution_count": 93,
   "metadata": {},
   "outputs": [],
   "source": [
    "#creando la tabla de modalidades\n",
    "tabla_modalidad=tabla_modalidad(urlModalidad)"
   ]
  },
  {
   "cell_type": "code",
   "execution_count": 94,
   "metadata": {},
   "outputs": [],
   "source": [
    "#Exportando las modalidades de Ingreso \n",
    "tabla_modalidad.to_csv('./data/tabla_modalidad.csv',index=False,sep=',')"
   ]
  },
  {
   "cell_type": "code",
   "execution_count": 95,
   "metadata": {},
   "outputs": [],
   "source": [
    "#creando la funcion para obtener la los links de cada carrera por modaldidad \n",
    "def get_carrera_url(urlAdmision):\n",
    "    response = requests.get(urlAdmision, headers={'Content-Type': 'text/html; charset=utf-8'})\n",
    "    if response.status_code == 200:\n",
    "    #traemos el contenido de la web \n",
    "        soup = BeautifulSoup(response.content.decode('utf-8'), 'html.parser')\n",
    "        # estamos creando la url de todas las areas\n",
    "        urls = [urlAdmision[:-7:]+a['href'][1::] for a in soup.select('tbody tr td.text-center a')]\n",
    "        return urls"
   ]
  },
  {
   "cell_type": "code",
   "execution_count": 96,
   "metadata": {},
   "outputs": [],
   "source": [
    "def tabla_carrera(urlAdmision):\n",
    "    response = requests.get(urlAdmision, headers={'Content-Type': 'text/html; charset=utf-8'})\n",
    "    if response.status_code == 200:\n",
    "    #traemos el contenido de la web \n",
    "        soup = BeautifulSoup(response.content.decode('utf-8'), 'html.parser')\n",
    "        # estamos creando la url de todas las areas\n",
    "        tabla = [[a['href'][4:-7:],a.text.upper()] for a in soup.select('tbody tr td.text-center a')]\n",
    "        tabla=pd.DataFrame(tabla,columns=['IdCarrera','Carrera'])\n",
    "        return tabla"
   ]
  },
  {
   "cell_type": "code",
   "execution_count": 97,
   "metadata": {},
   "outputs": [],
   "source": [
    "tabla_carrera=tabla_carrera(urlAdmision[0])\n",
    "tabla_carrera.IdCarrera=tabla_carrera.IdCarrera.astype(int)"
   ]
  },
  {
   "cell_type": "code",
   "execution_count": 98,
   "metadata": {},
   "outputs": [
    {
     "data": {
      "text/html": [
       "<div>\n",
       "<style scoped>\n",
       "    .dataframe tbody tr th:only-of-type {\n",
       "        vertical-align: middle;\n",
       "    }\n",
       "\n",
       "    .dataframe tbody tr th {\n",
       "        vertical-align: top;\n",
       "    }\n",
       "\n",
       "    .dataframe thead th {\n",
       "        text-align: right;\n",
       "    }\n",
       "</style>\n",
       "<table border=\"1\" class=\"dataframe\">\n",
       "  <thead>\n",
       "    <tr style=\"text-align: right;\">\n",
       "      <th></th>\n",
       "      <th>IdCarrera</th>\n",
       "      <th>Carrera</th>\n",
       "    </tr>\n",
       "  </thead>\n",
       "  <tbody>\n",
       "    <tr>\n",
       "      <th>0</th>\n",
       "      <td>22</td>\n",
       "      <td>DERECHO</td>\n",
       "    </tr>\n",
       "    <tr>\n",
       "      <th>1</th>\n",
       "      <td>23</td>\n",
       "      <td>CIENCIA POLÍTICA</td>\n",
       "    </tr>\n",
       "    <tr>\n",
       "      <th>2</th>\n",
       "      <td>31</td>\n",
       "      <td>LITERATURA</td>\n",
       "    </tr>\n",
       "    <tr>\n",
       "      <th>3</th>\n",
       "      <td>33</td>\n",
       "      <td>FILOSOFÍA</td>\n",
       "    </tr>\n",
       "    <tr>\n",
       "      <th>4</th>\n",
       "      <td>34</td>\n",
       "      <td>LINGUÍSTICA</td>\n",
       "    </tr>\n",
       "    <tr>\n",
       "      <th>...</th>\n",
       "      <td>...</td>\n",
       "      <td>...</td>\n",
       "    </tr>\n",
       "    <tr>\n",
       "      <th>63</th>\n",
       "      <td>193</td>\n",
       "      <td>INGENIERÍA DE TELECOMUNICACIONES</td>\n",
       "    </tr>\n",
       "    <tr>\n",
       "      <th>64</th>\n",
       "      <td>194</td>\n",
       "      <td>INGENIERÍA BIOMÉDICA</td>\n",
       "    </tr>\n",
       "    <tr>\n",
       "      <th>65</th>\n",
       "      <td>201</td>\n",
       "      <td>INGENIERÍA DE SISTEMAS</td>\n",
       "    </tr>\n",
       "    <tr>\n",
       "      <th>66</th>\n",
       "      <td>202</td>\n",
       "      <td>INGENIERÍA DE SOFTWARE</td>\n",
       "    </tr>\n",
       "    <tr>\n",
       "      <th>67</th>\n",
       "      <td>203</td>\n",
       "      <td>CIENCIAS DE LA COMPUTACIÓN</td>\n",
       "    </tr>\n",
       "  </tbody>\n",
       "</table>\n",
       "<p>68 rows × 2 columns</p>\n",
       "</div>"
      ],
      "text/plain": [
       "    IdCarrera                           Carrera\n",
       "0          22                           DERECHO\n",
       "1          23                  CIENCIA POLÍTICA\n",
       "2          31                        LITERATURA\n",
       "3          33                         FILOSOFÍA\n",
       "4          34                       LINGUÍSTICA\n",
       "..        ...                               ...\n",
       "63        193  INGENIERÍA DE TELECOMUNICACIONES\n",
       "64        194              INGENIERÍA BIOMÉDICA\n",
       "65        201            INGENIERÍA DE SISTEMAS\n",
       "66        202            INGENIERÍA DE SOFTWARE\n",
       "67        203        CIENCIAS DE LA COMPUTACIÓN\n",
       "\n",
       "[68 rows x 2 columns]"
      ]
     },
     "execution_count": 98,
     "metadata": {},
     "output_type": "execute_result"
    }
   ],
   "source": [
    "#opteniendo nuestra tabla de carreras \n",
    "tabla_carrera"
   ]
  },
  {
   "cell_type": "code",
   "execution_count": 99,
   "metadata": {},
   "outputs": [],
   "source": [
    "#exportando nuestra tabla de carreras \n",
    "tabla_carrera.to_csv('./data/tabla_carrera.csv',sep=',',index=False)"
   ]
  },
  {
   "cell_type": "code",
   "execution_count": 100,
   "metadata": {},
   "outputs": [],
   "source": [
    "url=urlModalidad\n",
    "\n",
    "urlsModalidad=get_modalidad_url(url)"
   ]
  },
  {
   "cell_type": "code",
   "execution_count": 101,
   "metadata": {},
   "outputs": [
    {
     "data": {
      "text/html": [
       "<div>\n",
       "<style scoped>\n",
       "    .dataframe tbody tr th:only-of-type {\n",
       "        vertical-align: middle;\n",
       "    }\n",
       "\n",
       "    .dataframe tbody tr th {\n",
       "        vertical-align: top;\n",
       "    }\n",
       "\n",
       "    .dataframe thead th {\n",
       "        text-align: right;\n",
       "    }\n",
       "</style>\n",
       "<table border=\"1\" class=\"dataframe\">\n",
       "  <thead>\n",
       "    <tr style=\"text-align: right;\">\n",
       "      <th></th>\n",
       "      <th>id_modalidad</th>\n",
       "      <th>Modalidad</th>\n",
       "    </tr>\n",
       "  </thead>\n",
       "  <tbody>\n",
       "    <tr>\n",
       "      <th>0</th>\n",
       "      <td>0</td>\n",
       "      <td>educación básica regular (ebr) y educación bás...</td>\n",
       "    </tr>\n",
       "  </tbody>\n",
       "</table>\n",
       "</div>"
      ],
      "text/plain": [
       "   id_modalidad                                          Modalidad\n",
       "0             0  educación básica regular (ebr) y educación bás..."
      ]
     },
     "execution_count": 101,
     "metadata": {},
     "output_type": "execute_result"
    }
   ],
   "source": [
    "tabla_modalidad"
   ]
  },
  {
   "cell_type": "code",
   "execution_count": 102,
   "metadata": {},
   "outputs": [],
   "source": [
    "#en esta funcion se introduce una lista\n",
    "#devuelve el dataframe de todas las carreraspor modalidad y con id modaldiad\n",
    "def get_df(urls,num):\n",
    "    resultados = pd.DataFrame()\n",
    "    for url in urls:\n",
    "        tables = pd.read_html(url, encoding='utf-8')\n",
    "        table = pd.concat(tables)\n",
    "        resultados = pd.concat([resultados, table], ignore_index=True)\n",
    "    resultados['IdModalidad']=num\n",
    "    return resultados\n",
    "    "
   ]
  },
  {
   "cell_type": "code",
   "execution_count": 103,
   "metadata": {},
   "outputs": [],
   "source": [
    "#recolectamos todas las url opr modalidad de ingreso\n",
    "urlsModalidad=get_modalidad_url(url)\n",
    "urlsCarrera=[]\n",
    "for i , urlModalidad in enumerate(urlsModalidad):\n",
    "    #guardando las url de carrera\n",
    "    urlsCarrera.append(get_carrera_url(urlModalidad))\n"
   ]
  },
  {
   "cell_type": "code",
   "execution_count": 108,
   "metadata": {},
   "outputs": [],
   "source": [
    "#creando un bucle para extraer la informacion de todos los postulantes ausentes y que ingresaron\n",
    "todo = pd.DataFrame()\n",
    "for i in range(len(urlsCarrera)):\n",
    "    resultado=get_df(urlsCarrera[i],i)\n",
    "    todo = pd.concat([todo, resultado], ignore_index=True)"
   ]
  },
  {
   "cell_type": "code",
   "execution_count": 109,
   "metadata": {},
   "outputs": [],
   "source": [
    "#exportamdo los resultados de examen de admision \n",
    "#hacer un for donde extraigamos toda la data y le incluya una columna para especificar su modalidad\n",
    "todo.to_csv('./data/tabla_resultados.csv',index=False,sep=',')"
   ]
  },
  {
   "cell_type": "code",
   "execution_count": 110,
   "metadata": {},
   "outputs": [
    {
     "name": "stdout",
     "output_type": "stream",
     "text": [
      "<class 'pandas.core.frame.DataFrame'>\n",
      "RangeIndex: 18484 entries, 0 to 18483\n",
      "Data columns (total 8 columns):\n",
      " #   Column                     Non-Null Count  Dtype  \n",
      "---  ------                     --------------  -----  \n",
      " 0   CODIGO                     18484 non-null  int64  \n",
      " 1   APELLIDOS Y NOMBRES        18484 non-null  object \n",
      " 2   ESCUELA PROFESIONAL        18484 non-null  object \n",
      " 3   PUNTAJE FINAL              18278 non-null  float64\n",
      " 4   MERITO E.P                 1727 non-null   float64\n",
      " 5   OBSERVACI&OacuteN          1933 non-null   object \n",
      " 6   DETALLE OBSERVACI&OacuteN  249 non-null    object \n",
      " 7   IdModalidad                18484 non-null  int64  \n",
      "dtypes: float64(2), int64(2), object(4)\n",
      "memory usage: 1.1+ MB\n"
     ]
    }
   ],
   "source": [
    "todo.info()"
   ]
  },
  {
   "cell_type": "code",
   "execution_count": 86,
   "metadata": {},
   "outputs": [
    {
     "data": {
      "text/html": [
       "<div>\n",
       "<style scoped>\n",
       "    .dataframe tbody tr th:only-of-type {\n",
       "        vertical-align: middle;\n",
       "    }\n",
       "\n",
       "    .dataframe tbody tr th {\n",
       "        vertical-align: top;\n",
       "    }\n",
       "\n",
       "    .dataframe thead th {\n",
       "        text-align: right;\n",
       "    }\n",
       "</style>\n",
       "<table border=\"1\" class=\"dataframe\">\n",
       "  <thead>\n",
       "    <tr style=\"text-align: right;\">\n",
       "      <th></th>\n",
       "      <th>CODIGO</th>\n",
       "      <th>APELLIDOS Y NOMBRES</th>\n",
       "      <th>ESCUELA PROFESIONAL</th>\n",
       "      <th>PUNTAJE FINAL</th>\n",
       "      <th>MERITO E.P</th>\n",
       "      <th>OBSERVACI&amp;OacuteN</th>\n",
       "      <th>IdModalidad</th>\n",
       "    </tr>\n",
       "  </thead>\n",
       "  <tbody>\n",
       "    <tr>\n",
       "      <th>0</th>\n",
       "      <td>855168</td>\n",
       "      <td>ABAD GRANDA, ANDRE FAHET</td>\n",
       "      <td>MEDICINA HUMANA</td>\n",
       "      <td>774.75</td>\n",
       "      <td>NaN</td>\n",
       "      <td>NaN</td>\n",
       "      <td>0</td>\n",
       "    </tr>\n",
       "    <tr>\n",
       "      <th>1</th>\n",
       "      <td>860373</td>\n",
       "      <td>ABAD NEYRA, ANDREA TAIS</td>\n",
       "      <td>MEDICINA HUMANA</td>\n",
       "      <td>299.0</td>\n",
       "      <td>NaN</td>\n",
       "      <td>NaN</td>\n",
       "      <td>0</td>\n",
       "    </tr>\n",
       "    <tr>\n",
       "      <th>2</th>\n",
       "      <td>894207</td>\n",
       "      <td>ABAD ONCOY, MARIA BELÉN</td>\n",
       "      <td>MEDICINA HUMANA</td>\n",
       "      <td>441.75</td>\n",
       "      <td>NaN</td>\n",
       "      <td>NaN</td>\n",
       "      <td>0</td>\n",
       "    </tr>\n",
       "    <tr>\n",
       "      <th>3</th>\n",
       "      <td>875677</td>\n",
       "      <td>ABAL PRINCIPE, INGRID</td>\n",
       "      <td>MEDICINA HUMANA</td>\n",
       "      <td>530.5</td>\n",
       "      <td>NaN</td>\n",
       "      <td>NaN</td>\n",
       "      <td>0</td>\n",
       "    </tr>\n",
       "    <tr>\n",
       "      <th>4</th>\n",
       "      <td>855333</td>\n",
       "      <td>ABANTO ARAUJO, PERCY ANGEL</td>\n",
       "      <td>MEDICINA HUMANA</td>\n",
       "      <td>584.625</td>\n",
       "      <td>NaN</td>\n",
       "      <td>NaN</td>\n",
       "      <td>0</td>\n",
       "    </tr>\n",
       "  </tbody>\n",
       "</table>\n",
       "</div>"
      ],
      "text/plain": [
       "   CODIGO         APELLIDOS Y NOMBRES ESCUELA PROFESIONAL PUNTAJE FINAL  \\\n",
       "0  855168    ABAD GRANDA, ANDRE FAHET     MEDICINA HUMANA        774.75   \n",
       "1  860373     ABAD NEYRA, ANDREA TAIS     MEDICINA HUMANA         299.0   \n",
       "2  894207     ABAD ONCOY, MARIA BELÉN     MEDICINA HUMANA        441.75   \n",
       "3  875677       ABAL PRINCIPE, INGRID     MEDICINA HUMANA         530.5   \n",
       "4  855333  ABANTO ARAUJO, PERCY ANGEL     MEDICINA HUMANA       584.625   \n",
       "\n",
       "   MERITO E.P OBSERVACI&OacuteN  IdModalidad  \n",
       "0         NaN               NaN            0  \n",
       "1         NaN               NaN            0  \n",
       "2         NaN               NaN            0  \n",
       "3         NaN               NaN            0  \n",
       "4         NaN               NaN            0  "
      ]
     },
     "execution_count": 86,
     "metadata": {},
     "output_type": "execute_result"
    }
   ],
   "source": [
    "todo.head()"
   ]
  },
  {
   "cell_type": "code",
   "execution_count": null,
   "metadata": {},
   "outputs": [],
   "source": []
  }
 ],
 "metadata": {
  "kernelspec": {
   "display_name": "envSimulacro",
   "language": "python",
   "name": "python3"
  },
  "language_info": {
   "codemirror_mode": {
    "name": "ipython",
    "version": 3
   },
   "file_extension": ".py",
   "mimetype": "text/x-python",
   "name": "python",
   "nbconvert_exporter": "python",
   "pygments_lexer": "ipython3",
   "version": "3.8.10"
  },
  "orig_nbformat": 4,
  "vscode": {
   "interpreter": {
    "hash": "73470fe3c4a297ea9b65e7b49778e272fbbaf1efa762d59aeb4a62f861ebe6f6"
   }
  }
 },
 "nbformat": 4,
 "nbformat_minor": 2
}
