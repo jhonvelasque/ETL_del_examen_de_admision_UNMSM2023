{
 "cells": [
  {
   "cell_type": "code",
   "execution_count": 22,
   "metadata": {},
   "outputs": [],
   "source": [
    "import pandas as pd\n",
    "import requests\n",
    "import lxml.html as html\n",
    "import os\n",
    "import datetime\n",
    "import requests\n",
    "from bs4 import BeautifulSoup"
   ]
  },
  {
   "cell_type": "code",
   "execution_count": 23,
   "metadata": {},
   "outputs": [],
   "source": [
    "#Teniendo la url para hacer el web scraping\n",
    "urlModalidad='https://admision.unmsm.edu.pe/WebsiteExa_20232/'\n",
    "\n",
    "def get_modalidad_url(urlModalidad):\n",
    "    response = requests.get(urlModalidad, headers={'Content-Type': 'text/html; charset=utf-8'})\n",
    "    if response.status_code == 200:\n",
    "    #traemos el contenido de la web \n",
    "        soup = BeautifulSoup(response.content.decode('utf-8'), 'html.parser')\n",
    "        # estamos creando la url de todas las areas\n",
    "        urls = [urlModalidad+a['href'][::] for a in soup.select('tbody tr td.text-center a')]\n",
    "    return urls\n"
   ]
  },
  {
   "cell_type": "code",
   "execution_count": 24,
   "metadata": {},
   "outputs": [
    {
     "data": {
      "text/plain": [
       "['https://admision.unmsm.edu.pe/WebsiteExa_20232/A.html',\n",
       " 'https://admision.unmsm.edu.pe/WebsiteExa_20232/C.html',\n",
       " 'https://admision.unmsm.edu.pe/WebsiteExa_20232/D.html',\n",
       " 'https://admision.unmsm.edu.pe/WebsiteExa_20232/E.html',\n",
       " 'https://admision.unmsm.edu.pe/WebsiteExa_20232/F.html',\n",
       " 'https://admision.unmsm.edu.pe/WebsiteExa_20232/G.html',\n",
       " 'https://admision.unmsm.edu.pe/WebsiteExa_20232/H.html',\n",
       " 'https://admision.unmsm.edu.pe/WebsiteExa_20232/I.html',\n",
       " 'https://admision.unmsm.edu.pe/WebsiteExa_20232/M.html',\n",
       " 'https://admision.unmsm.edu.pe/WebsiteExa_20232/N.html',\n",
       " 'https://admision.unmsm.edu.pe/WebsiteExa_20232/O.html']"
      ]
     },
     "execution_count": 24,
     "metadata": {},
     "output_type": "execute_result"
    }
   ],
   "source": [
    "get_modalidad_url(urlModalidad)"
   ]
  },
  {
   "cell_type": "code",
   "execution_count": 25,
   "metadata": {},
   "outputs": [],
   "source": [
    "def tabla_modalidad(urlModalidad):\n",
    "    response = requests.get(urlModalidad, headers={'Content-Type': 'text/html; charset=utf-8'})\n",
    "    if response.status_code == 200:\n",
    "    #traemos el contenido de la web \n",
    "        soup = BeautifulSoup(response.content.decode('utf-8'), 'html.parser')\n",
    "        # estamos creando la url de todas las areas\n",
    "        contents = [a.text.lower() for a in soup.select('tbody tr td.text-center a')]\n",
    "        tabla =pd.DataFrame(contents,columns=['Modalidad']).reset_index()\n",
    "        tabla.rename(columns={'index': 'id_modalidad'},inplace=True)\n",
    "    return tabla\n"
   ]
  },
  {
   "cell_type": "code",
   "execution_count": 26,
   "metadata": {},
   "outputs": [],
   "source": [
    "#creando la tabla de modalidades\n",
    "tabla_modalidad=tabla_modalidad(urlModalidad)"
   ]
  },
  {
   "cell_type": "code",
   "execution_count": 27,
   "metadata": {},
   "outputs": [],
   "source": [
    "#Exportando las modalidades de Ingreso \n",
    "tabla_modalidad.to_csv('./data/tabla_modalidad.csv',index=False,sep=',')"
   ]
  },
  {
   "cell_type": "code",
   "execution_count": 28,
   "metadata": {},
   "outputs": [],
   "source": [
    "#creando la funcion para obtener la los links de cada carrera por modaldidad \n",
    "def get_carrera_url(urlAdmision):\n",
    "    response = requests.get(urlAdmision, headers={'Content-Type': 'text/html; charset=utf-8'})\n",
    "    if response.status_code == 200:\n",
    "    #traemos el contenido de la web \n",
    "        soup = BeautifulSoup(response.content.decode('utf-8'), 'html.parser')\n",
    "        # estamos creando la url de todas las areas\n",
    "        urls = [urlAdmision[:-7:]+a['href'][1::] for a in soup.select('tbody tr td.text-center a')]\n",
    "        return urls"
   ]
  },
  {
   "cell_type": "code",
   "execution_count": 29,
   "metadata": {},
   "outputs": [],
   "source": [
    "def tabla_carrera(urlAdmision):\n",
    "    response = requests.get(urlAdmision, headers={'Content-Type': 'text/html; charset=utf-8'})\n",
    "    if response.status_code == 200:\n",
    "    #traemos el contenido de la web \n",
    "        soup = BeautifulSoup(response.content.decode('utf-8'), 'html.parser')\n",
    "        # estamos creando la url de todas las areas\n",
    "        tabla = [[a['href'][4:-7:],a.text.upper()] for a in soup.select('tbody tr td.text-center a')]\n",
    "        tabla=pd.DataFrame(tabla,columns=['IdCarrera','Carrera'])\n",
    "        return tabla"
   ]
  },
  {
   "cell_type": "code",
   "execution_count": 30,
   "metadata": {},
   "outputs": [],
   "source": [
    "tabla_carrera=tabla_carrera('https://admision.unmsm.edu.pe/WebsiteExa_20232/A.html')\n",
    "tabla_carrera.IdCarrera=tabla_carrera.IdCarrera.astype(int)"
   ]
  },
  {
   "cell_type": "code",
   "execution_count": 31,
   "metadata": {},
   "outputs": [
    {
     "data": {
      "text/html": [
       "<div>\n",
       "<style scoped>\n",
       "    .dataframe tbody tr th:only-of-type {\n",
       "        vertical-align: middle;\n",
       "    }\n",
       "\n",
       "    .dataframe tbody tr th {\n",
       "        vertical-align: top;\n",
       "    }\n",
       "\n",
       "    .dataframe thead th {\n",
       "        text-align: right;\n",
       "    }\n",
       "</style>\n",
       "<table border=\"1\" class=\"dataframe\">\n",
       "  <thead>\n",
       "    <tr style=\"text-align: right;\">\n",
       "      <th></th>\n",
       "      <th>IdCarrera</th>\n",
       "      <th>Carrera</th>\n",
       "    </tr>\n",
       "  </thead>\n",
       "  <tbody>\n",
       "    <tr>\n",
       "      <th>0</th>\n",
       "      <td>11</td>\n",
       "      <td>MEDICINA HUMANA</td>\n",
       "    </tr>\n",
       "    <tr>\n",
       "      <th>1</th>\n",
       "      <td>12</td>\n",
       "      <td>OBSTETRICIA</td>\n",
       "    </tr>\n",
       "    <tr>\n",
       "      <th>2</th>\n",
       "      <td>13</td>\n",
       "      <td>ENFERMERÍA</td>\n",
       "    </tr>\n",
       "    <tr>\n",
       "      <th>3</th>\n",
       "      <td>141</td>\n",
       "      <td>TEC. MED. LAB. CLÍNICO Y ANATOMÍA PATOLÓGICA</td>\n",
       "    </tr>\n",
       "    <tr>\n",
       "      <th>4</th>\n",
       "      <td>142</td>\n",
       "      <td>TEC. MED. TERAPIA FÍSICA Y REHABILITACIÓN</td>\n",
       "    </tr>\n",
       "    <tr>\n",
       "      <th>...</th>\n",
       "      <td>...</td>\n",
       "      <td>...</td>\n",
       "    </tr>\n",
       "    <tr>\n",
       "      <th>73</th>\n",
       "      <td>192</td>\n",
       "      <td>INGENIERÍA ELÉCTRICA</td>\n",
       "    </tr>\n",
       "    <tr>\n",
       "      <th>74</th>\n",
       "      <td>193</td>\n",
       "      <td>INGENIERÍA DE TELECOMUNICACIONES</td>\n",
       "    </tr>\n",
       "    <tr>\n",
       "      <th>75</th>\n",
       "      <td>194</td>\n",
       "      <td>INGENIERÍA BIOMÉDICA</td>\n",
       "    </tr>\n",
       "    <tr>\n",
       "      <th>76</th>\n",
       "      <td>201</td>\n",
       "      <td>INGENIERÍA DE SISTEMAS</td>\n",
       "    </tr>\n",
       "    <tr>\n",
       "      <th>77</th>\n",
       "      <td>202</td>\n",
       "      <td>INGENIERÍA DE SOFTWARE</td>\n",
       "    </tr>\n",
       "  </tbody>\n",
       "</table>\n",
       "<p>78 rows × 2 columns</p>\n",
       "</div>"
      ],
      "text/plain": [
       "    IdCarrera                                       Carrera\n",
       "0          11                               MEDICINA HUMANA\n",
       "1          12                                   OBSTETRICIA\n",
       "2          13                                    ENFERMERÍA\n",
       "3         141  TEC. MED. LAB. CLÍNICO Y ANATOMÍA PATOLÓGICA\n",
       "4         142     TEC. MED. TERAPIA FÍSICA Y REHABILITACIÓN\n",
       "..        ...                                           ...\n",
       "73        192                          INGENIERÍA ELÉCTRICA\n",
       "74        193              INGENIERÍA DE TELECOMUNICACIONES\n",
       "75        194                          INGENIERÍA BIOMÉDICA\n",
       "76        201                        INGENIERÍA DE SISTEMAS\n",
       "77        202                        INGENIERÍA DE SOFTWARE\n",
       "\n",
       "[78 rows x 2 columns]"
      ]
     },
     "execution_count": 31,
     "metadata": {},
     "output_type": "execute_result"
    }
   ],
   "source": [
    "#opteniendo nuestra tabla de carreras \n",
    "tabla_carrera"
   ]
  },
  {
   "cell_type": "code",
   "execution_count": 32,
   "metadata": {},
   "outputs": [],
   "source": [
    "#exportando nuestra tabla de carreras \n",
    "tabla_carrera.to_csv('./data/tabla_carrera.csv',sep=',',index=False)"
   ]
  },
  {
   "cell_type": "code",
   "execution_count": 33,
   "metadata": {},
   "outputs": [],
   "source": [
    "url='https://admision.unmsm.edu.pe/WebsiteExa_20232/'\n",
    "\n",
    "urlsModalidad=get_modalidad_url(url)"
   ]
  },
  {
   "cell_type": "code",
   "execution_count": 34,
   "metadata": {},
   "outputs": [
    {
     "data": {
      "text/html": [
       "<div>\n",
       "<style scoped>\n",
       "    .dataframe tbody tr th:only-of-type {\n",
       "        vertical-align: middle;\n",
       "    }\n",
       "\n",
       "    .dataframe tbody tr th {\n",
       "        vertical-align: top;\n",
       "    }\n",
       "\n",
       "    .dataframe thead th {\n",
       "        text-align: right;\n",
       "    }\n",
       "</style>\n",
       "<table border=\"1\" class=\"dataframe\">\n",
       "  <thead>\n",
       "    <tr style=\"text-align: right;\">\n",
       "      <th></th>\n",
       "      <th>id_modalidad</th>\n",
       "      <th>Modalidad</th>\n",
       "    </tr>\n",
       "  </thead>\n",
       "  <tbody>\n",
       "    <tr>\n",
       "      <th>0</th>\n",
       "      <td>0</td>\n",
       "      <td>educación básica regular (ebr) y educación bás...</td>\n",
       "    </tr>\n",
       "    <tr>\n",
       "      <th>1</th>\n",
       "      <td>1</td>\n",
       "      <td>primeros puestos de educación secundaria</td>\n",
       "    </tr>\n",
       "    <tr>\n",
       "      <th>2</th>\n",
       "      <td>2</td>\n",
       "      <td>traslado interno</td>\n",
       "    </tr>\n",
       "    <tr>\n",
       "      <th>3</th>\n",
       "      <td>3</td>\n",
       "      <td>graduados o titulados</td>\n",
       "    </tr>\n",
       "    <tr>\n",
       "      <th>4</th>\n",
       "      <td>4</td>\n",
       "      <td>traslado externo nacional</td>\n",
       "    </tr>\n",
       "    <tr>\n",
       "      <th>5</th>\n",
       "      <td>5</td>\n",
       "      <td>traslado externo internacional</td>\n",
       "    </tr>\n",
       "    <tr>\n",
       "      <th>6</th>\n",
       "      <td>6</td>\n",
       "      <td>deportista calificado</td>\n",
       "    </tr>\n",
       "    <tr>\n",
       "      <th>7</th>\n",
       "      <td>7</td>\n",
       "      <td>deportistas calificados de alto nivel</td>\n",
       "    </tr>\n",
       "    <tr>\n",
       "      <th>8</th>\n",
       "      <td>8</td>\n",
       "      <td>comunidades nativas</td>\n",
       "    </tr>\n",
       "    <tr>\n",
       "      <th>9</th>\n",
       "      <td>9</td>\n",
       "      <td>personas con discapacidad</td>\n",
       "    </tr>\n",
       "    <tr>\n",
       "      <th>10</th>\n",
       "      <td>10</td>\n",
       "      <td>plan integral de reparaciones</td>\n",
       "    </tr>\n",
       "  </tbody>\n",
       "</table>\n",
       "</div>"
      ],
      "text/plain": [
       "    id_modalidad                                          Modalidad\n",
       "0              0  educación básica regular (ebr) y educación bás...\n",
       "1              1           primeros puestos de educación secundaria\n",
       "2              2                                   traslado interno\n",
       "3              3                              graduados o titulados\n",
       "4              4                          traslado externo nacional\n",
       "5              5                     traslado externo internacional\n",
       "6              6                              deportista calificado\n",
       "7              7              deportistas calificados de alto nivel\n",
       "8              8                                comunidades nativas\n",
       "9              9                          personas con discapacidad\n",
       "10            10                      plan integral de reparaciones"
      ]
     },
     "execution_count": 34,
     "metadata": {},
     "output_type": "execute_result"
    }
   ],
   "source": [
    "tabla_modalidad"
   ]
  },
  {
   "cell_type": "code",
   "execution_count": 35,
   "metadata": {},
   "outputs": [],
   "source": [
    "#en esta funcion se introduce una lista\n",
    "#devuelve el dataframe de todas las carreraspor modalidad y con id modaldiad\n",
    "def get_df(urls,num):\n",
    "    resultados = pd.DataFrame()\n",
    "    for url in urls:\n",
    "        tables = pd.read_html(url, encoding='utf-8')\n",
    "        table = pd.concat(tables)\n",
    "        resultados = pd.concat([resultados, table], ignore_index=True)\n",
    "    resultados['IdModalidad']=num\n",
    "    return resultados\n",
    "    "
   ]
  },
  {
   "cell_type": "code",
   "execution_count": 36,
   "metadata": {},
   "outputs": [],
   "source": [
    "#recolectamos todas las url opr modalidad de ingreso\n",
    "urlsModalidad=get_modalidad_url(url)\n",
    "urlsCarrera=[]\n",
    "for i , urlModalidad in enumerate(urlsModalidad):\n",
    "    #guardando las url de carrera\n",
    "    urlsCarrera.append(get_carrera_url(urlModalidad))\n"
   ]
  },
  {
   "cell_type": "code",
   "execution_count": 37,
   "metadata": {},
   "outputs": [
    {
     "name": "stdout",
     "output_type": "stream",
     "text": [
      "<class 'pandas.core.frame.DataFrame'>\n",
      "RangeIndex: 84 entries, 0 to 83\n",
      "Data columns (total 7 columns):\n",
      " #   Column               Non-Null Count  Dtype  \n",
      "---  ------               --------------  -----  \n",
      " 0   CODIGO               84 non-null     int64  \n",
      " 1   APELLIDOS Y NOMBRES  84 non-null     object \n",
      " 2   ESCUELA PROFESIONAL  84 non-null     object \n",
      " 3   PUNTAJE FINAL        84 non-null     object \n",
      " 4   MERITO E.P           19 non-null     float64\n",
      " 5   OBSERVACI&OacuteN    41 non-null     object \n",
      " 6   IdModalidad          84 non-null     int64  \n",
      "dtypes: float64(1), int64(2), object(4)\n",
      "memory usage: 4.7+ KB\n"
     ]
    }
   ],
   "source": [
    "#probando la funcion\n",
    "resultados=get_df(urlsCarrera[4],2)\n",
    "resultados.info()"
   ]
  },
  {
   "cell_type": "code",
   "execution_count": 38,
   "metadata": {},
   "outputs": [
    {
     "data": {
      "text/plain": [
       "array([958.625, 721.75, 951.875, 913.0, 966.25, 670.5, 831.875, 1008.5,\n",
       "       546.0, 564.875, 551.625, 680.625, 755.0, 802.875, 869.625, 743.125,\n",
       "       820.875, 438.625, 468.5, 343.75, 'Art. 71º Reglamento', 566.0,\n",
       "       776.125, 397.0, 600.625, 416.125, 871.875, 720.625, 311.375, 599.5,\n",
       "       99.5, 605.375, 735.0, 543.75, 558.375, 651.625, 353.875, 254.75,\n",
       "       361.75, 573.0, 567.125, 804.25, 576.375, 161.75, 536.375, 518.375,\n",
       "       480.375, 438.125, 199.75, 712.75, 691.625, 649.375, 290.5, 510.75,\n",
       "       452.75, 410.75, 423.75, 902.875, 384.875], dtype=object)"
      ]
     },
     "execution_count": 38,
     "metadata": {},
     "output_type": "execute_result"
    }
   ],
   "source": [
    "resultados['PUNTAJE FINAL'].unique()"
   ]
  },
  {
   "cell_type": "code",
   "execution_count": 39,
   "metadata": {},
   "outputs": [
    {
     "data": {
      "text/plain": [
       "0     False\n",
       "1     False\n",
       "2     False\n",
       "3     False\n",
       "4     False\n",
       "      ...  \n",
       "79     True\n",
       "80     True\n",
       "81     True\n",
       "82    False\n",
       "83    False\n",
       "Name: PUNTAJE FINAL, Length: 84, dtype: bool"
      ]
     },
     "execution_count": 39,
     "metadata": {},
     "output_type": "execute_result"
    }
   ],
   "source": [
    "resultados['PUNTAJE FINAL']=='Art. 71º Reglamento'"
   ]
  },
  {
   "cell_type": "code",
   "execution_count": 40,
   "metadata": {},
   "outputs": [],
   "source": [
    "#creando un bucle para extraer la informacion de todos los postulantes ausentes y que ingresaron\n",
    "todo = pd.DataFrame()\n",
    "for i in range(len(urlsCarrera)):\n",
    "    resultado=get_df(urlsCarrera[i],i)\n",
    "    todo = pd.concat([todo, resultado], ignore_index=True)"
   ]
  },
  {
   "cell_type": "code",
   "execution_count": 41,
   "metadata": {},
   "outputs": [],
   "source": [
    "#exportamdo los resultados de examen de admision \n",
    "#hacer un for donde extraigamos toda la data y le incluya una columna para especificar su modalidad\n",
    "todo.to_csv('./data/tabla_resultados.csv',index=False,sep=',')"
   ]
  },
  {
   "cell_type": "code",
   "execution_count": 42,
   "metadata": {},
   "outputs": [
    {
     "name": "stdout",
     "output_type": "stream",
     "text": [
      "<class 'pandas.core.frame.DataFrame'>\n",
      "RangeIndex: 25832 entries, 0 to 25831\n",
      "Data columns (total 7 columns):\n",
      " #   Column               Non-Null Count  Dtype  \n",
      "---  ------               --------------  -----  \n",
      " 0   CODIGO               25832 non-null  int64  \n",
      " 1   APELLIDOS Y NOMBRES  25832 non-null  object \n",
      " 2   ESCUELA PROFESIONAL  25832 non-null  object \n",
      " 3   PUNTAJE FINAL        25352 non-null  object \n",
      " 4   MERITO E.P           4079 non-null   float64\n",
      " 5   OBSERVACI&OacuteN    4740 non-null   object \n",
      " 6   IdModalidad          25832 non-null  int64  \n",
      "dtypes: float64(1), int64(2), object(4)\n",
      "memory usage: 1.4+ MB\n"
     ]
    }
   ],
   "source": [
    "todo.info()"
   ]
  }
 ],
 "metadata": {
  "kernelspec": {
   "display_name": "envSimulacro",
   "language": "python",
   "name": "python3"
  },
  "language_info": {
   "codemirror_mode": {
    "name": "ipython",
    "version": 3
   },
   "file_extension": ".py",
   "mimetype": "text/x-python",
   "name": "python",
   "nbconvert_exporter": "python",
   "pygments_lexer": "ipython3",
   "version": "3.8.10"
  },
  "orig_nbformat": 4,
  "vscode": {
   "interpreter": {
    "hash": "73470fe3c4a297ea9b65e7b49778e272fbbaf1efa762d59aeb4a62f861ebe6f6"
   }
  }
 },
 "nbformat": 4,
 "nbformat_minor": 2
}
